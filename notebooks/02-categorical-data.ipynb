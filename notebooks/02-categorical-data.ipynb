{
 "cells": [
  {
   "cell_type": "markdown",
   "id": "ce569fcc-9b9f-43b5-8f5b-a93723c3b9c8",
   "metadata": {
    "tags": []
   },
   "source": [
    "# Categorical Data & Pandas Input\n",
    "\n",
    "In this notebook, we learn about how to encode categorical data and work with heterogeneous from Panda's DataFrames.\n",
    "\n",
    "<a href=\"https://colab.research.google.com/github/thomasjpfan/ml-workshop-intermediate-v2/blob/main/notebooks/02-categorical-data.ipynb\"><img src=\"https://colab.research.google.com/assets/colab-badge.svg\" alt=\"Open in Colab\" title=\"Open and Execute in Google Colaboratory\"></a>"
   ]
  },
  {
   "cell_type": "code",
   "execution_count": null,
   "id": "8da08205-bd7a-42ac-b343-2e028b799f5f",
   "metadata": {
    "tags": []
   },
   "outputs": [],
   "source": [
    "# Install dependencies for google colab\n",
    "import sys\n",
    "IN_COLAB = 'google.colab' in sys.modules\n",
    "if IN_COLAB:\n",
    "    %pip install -r https://raw.githubusercontent.com/thomasjpfan/ml-workshop-intermediate-v2/main/requirements.txt"
   ]
  },
  {
   "cell_type": "code",
   "execution_count": null,
   "id": "5d4ca972-cb90-499c-b412-23af1f656b47",
   "metadata": {
    "tags": []
   },
   "outputs": [],
   "source": [
    "import sklearn\n",
    "assert sklearn.__version__.startswith(\"1.2\"), \"Please install scikit-learn 1.2\""
   ]
  },
  {
   "cell_type": "markdown",
   "id": "66504124-92c1-481b-b0c1-7854d282deac",
   "metadata": {},
   "source": [
    "## Categorical Data"
   ]
  },
  {
   "cell_type": "code",
   "execution_count": null,
   "id": "f7c9b76a-802f-4b57-a761-40265e92ffcf",
   "metadata": {
    "tags": []
   },
   "outputs": [],
   "source": [
    "import pandas as pd\n",
    "\n",
    "df_train = pd.DataFrame({\n",
    "    \"pet\": [\"snake\", \"dog\", \"cat\", \"cow\"],\n",
    "})\n",
    "df_train"
   ]
  },
  {
   "cell_type": "markdown",
   "id": "93c73146-0f11-4e0c-9d5d-79d59b560966",
   "metadata": {},
   "source": [
    "## OrdinalEncoder"
   ]
  },
  {
   "cell_type": "code",
   "execution_count": null,
   "id": "2c6d565f-77de-4962-ae3b-0ddca9d8a3d1",
   "metadata": {
    "tags": []
   },
   "outputs": [],
   "source": [
    "from sklearn.preprocessing import OrdinalEncoder"
   ]
  },
  {
   "cell_type": "code",
   "execution_count": null,
   "id": "17ee68e2-dd92-4b5c-80c3-c60d06b2f1c1",
   "metadata": {
    "tags": []
   },
   "outputs": [],
   "source": [
    "ord_encoder = OrdinalEncoder()\n",
    "ord_encoder.fit_transform(df_train)"
   ]
  },
  {
   "cell_type": "code",
   "execution_count": null,
   "id": "9e5dc293-565c-4afc-a3e0-783da1d4c4bf",
   "metadata": {
    "tags": []
   },
   "outputs": [],
   "source": [
    "ord_encoder.categories_"
   ]
  },
  {
   "cell_type": "code",
   "execution_count": null,
   "id": "8f77b271-2408-46b0-872e-94eb66d4773e",
   "metadata": {
    "tags": []
   },
   "outputs": [],
   "source": [
    "df_test = pd.DataFrame({\n",
    "    \"pet\": [\"cow\", \"cat\"]\n",
    "})\n",
    "df_test"
   ]
  },
  {
   "cell_type": "code",
   "execution_count": null,
   "id": "b3ccfc79-553b-4462-9612-71d427e87e76",
   "metadata": {
    "tags": []
   },
   "outputs": [],
   "source": [
    "ord_encoder.transform(df_test)"
   ]
  },
  {
   "cell_type": "markdown",
   "id": "b6d537da-a6a6-4a49-8ebb-2aff4ab13294",
   "metadata": {},
   "source": [
    "### Categories that are unknown during `fit`"
   ]
  },
  {
   "cell_type": "code",
   "execution_count": null,
   "id": "d9ff7c4e-ab2e-4a73-88f8-8dd965d567c5",
   "metadata": {
    "tags": []
   },
   "outputs": [],
   "source": [
    "df_test_unknown = pd.DataFrame({\n",
    "    \"pet\": [\"bear\"]\n",
    "})\n",
    "df_test_unknown"
   ]
  },
  {
   "cell_type": "code",
   "execution_count": null,
   "id": "c21826fd-f6e4-4279-816b-19c3ab5a6318",
   "metadata": {
    "tags": []
   },
   "outputs": [],
   "source": [
    "try:\n",
    "    ord_encoder.transform(df_test_unknown)\n",
    "except ValueError as err:\n",
    "    print(err)"
   ]
  },
  {
   "cell_type": "markdown",
   "id": "932f656c-bedd-45e4-bb48-05069b68ce79",
   "metadata": {},
   "source": [
    "### How to handle unknown categories in OrdinalEncoder?"
   ]
  },
  {
   "cell_type": "code",
   "execution_count": null,
   "id": "87f1b0ad-9ebe-4252-9dbf-a0102a4e849a",
   "metadata": {
    "tags": []
   },
   "outputs": [],
   "source": [
    "ord_encoder = OrdinalEncoder(handle_unknown='use_encoded_value', unknown_value=-1)"
   ]
  },
  {
   "cell_type": "code",
   "execution_count": null,
   "id": "39d39c53-f576-491d-8f01-2ec712af1107",
   "metadata": {
    "tags": []
   },
   "outputs": [],
   "source": [
    "ord_encoder.fit_transform(df_train)"
   ]
  },
  {
   "cell_type": "code",
   "execution_count": null,
   "id": "e9daf269-b2d0-4a18-8631-8209d04d89dd",
   "metadata": {
    "tags": []
   },
   "outputs": [],
   "source": [
    "ord_encoder.transform(df_test_unknown)"
   ]
  },
  {
   "cell_type": "markdown",
   "id": "bf5508d7-0422-4254-b0db-bc6c11d69146",
   "metadata": {},
   "source": [
    "## OneHotEncoder"
   ]
  },
  {
   "cell_type": "code",
   "execution_count": null,
   "id": "138bd0ca-b3f6-4032-91c6-0dd84ef2e158",
   "metadata": {
    "tags": []
   },
   "outputs": [],
   "source": [
    "from sklearn.preprocessing import OneHotEncoder\n",
    "\n",
    "ohe = OneHotEncoder()\n",
    "X_trans = ohe.fit_transform(df_train)\n",
    "X_trans"
   ]
  },
  {
   "cell_type": "markdown",
   "id": "cf88eea0-bd8b-4012-8bcf-c3ef3c91e205",
   "metadata": {},
   "source": [
    "By default, its sparse!"
   ]
  },
  {
   "cell_type": "code",
   "execution_count": null,
   "id": "fdcb6bd0-6e69-4453-bdd4-4ed15895a5cb",
   "metadata": {
    "tags": []
   },
   "outputs": [],
   "source": [
    "X_trans.toarray()"
   ]
  },
  {
   "cell_type": "code",
   "execution_count": null,
   "id": "82506547-0565-40f1-9773-d7bd787adbe8",
   "metadata": {
    "tags": []
   },
   "outputs": [],
   "source": [
    "ohe.get_feature_names_out()"
   ]
  },
  {
   "cell_type": "markdown",
   "id": "128abc36-258a-439c-9531-efc5a6aede22",
   "metadata": {},
   "source": [
    "### Pandas output requires non-sparse data"
   ]
  },
  {
   "cell_type": "code",
   "execution_count": null,
   "id": "29e4523b-8713-4a0a-9360-7025a1d7dc73",
   "metadata": {
    "tags": []
   },
   "outputs": [],
   "source": [
    "ohe = OneHotEncoder(sparse_output=False)\n",
    "ohe.fit_transform(df_train)"
   ]
  },
  {
   "cell_type": "code",
   "execution_count": null,
   "id": "c7efaaf7-ff45-4618-b192-d2ba39df88b2",
   "metadata": {
    "tags": []
   },
   "outputs": [],
   "source": [
    "ohe.set_output(transform=\"pandas\")"
   ]
  },
  {
   "cell_type": "code",
   "execution_count": null,
   "id": "e5a2d256-b3c9-4175-84ce-950b005c8b32",
   "metadata": {
    "tags": []
   },
   "outputs": [],
   "source": [
    "ohe.fit_transform(df_train)"
   ]
  },
  {
   "cell_type": "markdown",
   "id": "dd11d668-63e7-4e80-85e4-4d44dde830b8",
   "metadata": {},
   "source": [
    "### Unknown categories during transform?"
   ]
  },
  {
   "cell_type": "code",
   "execution_count": null,
   "id": "ce22ef4e-f9a4-465d-9d87-40ffdf24db80",
   "metadata": {
    "tags": []
   },
   "outputs": [],
   "source": [
    "df_test_unknown"
   ]
  },
  {
   "cell_type": "code",
   "execution_count": null,
   "id": "6be2c963-205e-4b0b-a3b5-9308e8db862d",
   "metadata": {
    "tags": []
   },
   "outputs": [],
   "source": [
    "# this will fail\n",
    "try:\n",
    "    ohe.transform(df_test_unknown)\n",
    "except ValueError as exc:\n",
    "    print(exc)"
   ]
  },
  {
   "cell_type": "markdown",
   "id": "59045ecc-828b-4dd2-ab4e-7c08454d3d8a",
   "metadata": {},
   "source": [
    "### OHE can handle unknowns"
   ]
  },
  {
   "cell_type": "code",
   "execution_count": null,
   "id": "2ad67ae8-8923-4f39-9656-e234fa10d69d",
   "metadata": {
    "tags": []
   },
   "outputs": [],
   "source": [
    "ohe = OneHotEncoder(sparse_output=False, handle_unknown=\"ignore\")\n",
    "ohe.set_output(transform=\"pandas\")\n",
    "ohe.fit(df_train)"
   ]
  },
  {
   "cell_type": "code",
   "execution_count": null,
   "id": "ff7ff253-7e54-4f43-b60e-92157313f9d6",
   "metadata": {
    "tags": []
   },
   "outputs": [],
   "source": [
    "ohe.transform(df_test_unknown)"
   ]
  },
  {
   "cell_type": "markdown",
   "id": "4722d5bb-1a03-43b0-ad06-ecc36d135faa",
   "metadata": {},
   "source": [
    "### Two categorical features"
   ]
  },
  {
   "cell_type": "code",
   "execution_count": null,
   "id": "63ebb841-548b-4e52-ba1c-2addb7606fdf",
   "metadata": {
    "tags": []
   },
   "outputs": [],
   "source": [
    "df_train = pd.DataFrame({\n",
    "    \"pet\": [\"cat\", \"dog\", \"snake\"],\n",
    "    \"city\": [\"New York\", \"London\", \"London\"]\n",
    "})"
   ]
  },
  {
   "cell_type": "code",
   "execution_count": null,
   "id": "d9e0e986-dfa3-4dcf-8a7c-9bfaa4c54f15",
   "metadata": {
    "tags": []
   },
   "outputs": [],
   "source": [
    "ohe.fit(df_train)"
   ]
  },
  {
   "cell_type": "code",
   "execution_count": null,
   "id": "90eac0da-ec61-4dc1-a3cd-0bc4e971e44d",
   "metadata": {
    "tags": []
   },
   "outputs": [],
   "source": [
    "ohe.transform(df_train)"
   ]
  },
  {
   "cell_type": "markdown",
   "id": "64bb2967-6c4f-4d1a-8662-57ea5ba80bbc",
   "metadata": {},
   "source": [
    "## Back to slides!"
   ]
  },
  {
   "cell_type": "markdown",
   "id": "768ddd03-b6a1-45e0-81c7-ae294b288ad8",
   "metadata": {},
   "source": [
    "# ColumnTransformer"
   ]
  },
  {
   "cell_type": "code",
   "execution_count": null,
   "id": "bb9d2541-2d8c-4e8f-ba3a-be64a2eb3a52",
   "metadata": {
    "tags": []
   },
   "outputs": [],
   "source": [
    "X_df = pd.DataFrame({\n",
    "    'age': [10, 20, 15, 5, 20, 14],\n",
    "    'height': [5, 7, 6.5, 4.1, 5.4, 5.4],\n",
    "    'pet': ['dog', 'snake', 'cat', 'dog', 'cat', 'cat']\n",
    "})\n",
    "X_df"
   ]
  },
  {
   "cell_type": "markdown",
   "id": "67e13a0d-92b4-4750-8b0a-10dabd499b50",
   "metadata": {},
   "source": [
    "## With OrdinalEncoder"
   ]
  },
  {
   "cell_type": "code",
   "execution_count": null,
   "id": "936ee3ef-478e-41bb-910d-0fd53624297d",
   "metadata": {
    "tags": []
   },
   "outputs": [],
   "source": [
    "from sklearn.compose import ColumnTransformer\n",
    "from sklearn.preprocessing import StandardScaler"
   ]
  },
  {
   "cell_type": "code",
   "execution_count": null,
   "id": "ca6d48dc-9b4b-4116-9e39-b542cf3f68c1",
   "metadata": {
    "tags": []
   },
   "outputs": [],
   "source": [
    "ct = ColumnTransformer([\n",
    "    ('numerical', StandardScaler(), ['age', 'height']),\n",
    "    ('categorical', OrdinalEncoder(), ['pet'])\n",
    "])\n",
    "\n",
    "ct.fit_transform(X_df)"
   ]
  },
  {
   "cell_type": "markdown",
   "id": "e2d18f1e-f068-4634-a59d-1d346a93a50d",
   "metadata": {},
   "source": [
    "### Pandas output"
   ]
  },
  {
   "cell_type": "code",
   "execution_count": null,
   "id": "ecf7b783-b3eb-4823-9c62-6e553a0780c4",
   "metadata": {
    "tags": []
   },
   "outputs": [],
   "source": [
    "ct = ColumnTransformer([\n",
    "    ('numerical', StandardScaler(), ['age', 'height']),\n",
    "    ('categorical', OrdinalEncoder(), ['pet'])\n",
    "], verbose_feature_names_out=False)\n",
    "\n",
    "ct.set_output(transform=\"pandas\")"
   ]
  },
  {
   "cell_type": "code",
   "execution_count": null,
   "id": "afc21be9-c708-40ce-89a8-d17be06bfd84",
   "metadata": {
    "tags": []
   },
   "outputs": [],
   "source": [
    "ct.fit_transform(X_df)"
   ]
  },
  {
   "cell_type": "markdown",
   "id": "625a5348-f3f9-4224-8cc1-a953233149f2",
   "metadata": {},
   "source": [
    "## With OneHotEncoder"
   ]
  },
  {
   "cell_type": "code",
   "execution_count": null,
   "id": "4f5960b8-5adb-4d68-9e6a-bf247a71ca25",
   "metadata": {
    "tags": []
   },
   "outputs": [],
   "source": [
    "ct = ColumnTransformer([\n",
    "    ('numerical', StandardScaler(), ['age', 'height']),\n",
    "    ('categorical', OneHotEncoder(sparse_output=False), ['pet'])\n",
    "], verbose_feature_names_out=False)\n",
    "\n",
    "ct.set_output(transform=\"pandas\")"
   ]
  },
  {
   "cell_type": "code",
   "execution_count": null,
   "id": "8fa7ccca-6b88-4b3b-b958-bf6a21a6e471",
   "metadata": {
    "tags": []
   },
   "outputs": [],
   "source": [
    "ct.fit_transform(X_df)"
   ]
  },
  {
   "cell_type": "markdown",
   "id": "36ff816a-bc88-4bce-8454-d96d58571e0f",
   "metadata": {},
   "source": [
    "## In a ML Pipeline"
   ]
  },
  {
   "cell_type": "code",
   "execution_count": null,
   "id": "8ecf39d5-3c8c-45c4-b42c-b9dfd4a20281",
   "metadata": {
    "tags": []
   },
   "outputs": [],
   "source": [
    "from sklearn.datasets import fetch_openml"
   ]
  },
  {
   "cell_type": "code",
   "execution_count": null,
   "id": "6258fda1-45ef-472c-974d-3f53113f30b7",
   "metadata": {
    "tags": []
   },
   "outputs": [],
   "source": [
    "titanic = fetch_openml(data_id=40945, as_frame=True, parser=\"pandas\")"
   ]
  },
  {
   "cell_type": "code",
   "execution_count": null,
   "id": "312f84e6-1520-44e9-b81c-e5324286ac3b",
   "metadata": {
    "tags": []
   },
   "outputs": [],
   "source": [
    "X, y = titanic.data, titanic.target"
   ]
  },
  {
   "cell_type": "code",
   "execution_count": null,
   "id": "f77f6d6c-a075-4028-a81a-590ae9cce499",
   "metadata": {
    "tags": []
   },
   "outputs": [],
   "source": [
    "X.head()"
   ]
  },
  {
   "cell_type": "markdown",
   "id": "fc159d4d-7015-488b-a884-2d63fd56cfaf",
   "metadata": {},
   "source": [
    "## Are there categories already encoded in the dataset?"
   ]
  },
  {
   "cell_type": "code",
   "execution_count": null,
   "id": "ca3d7b52-93a3-452b-8ddc-d1b476bd5752",
   "metadata": {
    "tags": []
   },
   "outputs": [],
   "source": [
    "X.dtypes"
   ]
  },
  {
   "cell_type": "code",
   "execution_count": null,
   "id": "822efbaf-aded-4088-99fb-46dd5fce0893",
   "metadata": {
    "tags": []
   },
   "outputs": [],
   "source": [
    "X.shape[0]"
   ]
  },
  {
   "cell_type": "markdown",
   "id": "bb70e6c3-1e39-4898-838c-f97ead283b36",
   "metadata": {},
   "source": [
    "## Are there missing values in the dataset?"
   ]
  },
  {
   "cell_type": "code",
   "execution_count": null,
   "id": "857bfb3c-c97d-414a-91b0-c2eed092cca2",
   "metadata": {
    "tags": []
   },
   "outputs": [],
   "source": [
    "missing_values = pd.concat(\n",
    "    {\n",
    "        \"missing_count\": X.isna().sum(),\n",
    "        \"dtypes\": X.dtypes,\n",
    "    },\n",
    "    axis='columns',\n",
    ")\n",
    "missing_values"
   ]
  },
  {
   "cell_type": "markdown",
   "id": "29e118e1-bdfc-49c8-9891-c23f58eb289b",
   "metadata": {},
   "source": [
    "## Split data into training and test sets"
   ]
  },
  {
   "cell_type": "code",
   "execution_count": null,
   "id": "b0290bfc-5d66-4667-b8ce-eb87d3cf96a0",
   "metadata": {
    "tags": []
   },
   "outputs": [],
   "source": [
    "from sklearn.model_selection import train_test_split\n",
    "\n",
    "X_train, X_test, y_train, y_test = train_test_split(\n",
    "    X, y, stratify=y, random_state=0\n",
    ")"
   ]
  },
  {
   "cell_type": "code",
   "execution_count": null,
   "id": "ecf1a73b-393a-4b56-a95e-8295b21b3c5d",
   "metadata": {
    "tags": []
   },
   "outputs": [],
   "source": [
    "X_train"
   ]
  },
  {
   "cell_type": "markdown",
   "id": "c42bb131-9835-4f64-832c-71b7e2d3e7fc",
   "metadata": {},
   "source": [
    "## Numerical preprocessing"
   ]
  },
  {
   "cell_type": "code",
   "execution_count": null,
   "id": "20303de6-69fa-4006-8cda-d1e5098faa63",
   "metadata": {
    "tags": []
   },
   "outputs": [],
   "source": [
    "missing_values"
   ]
  },
  {
   "cell_type": "code",
   "execution_count": null,
   "id": "2e94936f-ac36-4da7-ad93-9b7e46b868a7",
   "metadata": {
    "tags": []
   },
   "outputs": [],
   "source": [
    "numerical_features = [\"fare\", \"body\", \"age\", \"pclass\", \"sibsp\", \"parch\"]"
   ]
  },
  {
   "cell_type": "markdown",
   "id": "35f98b4c-0747-4097-9863-5c636bc79eb4",
   "metadata": {},
   "source": [
    "### Global pandas output!"
   ]
  },
  {
   "cell_type": "code",
   "execution_count": null,
   "id": "83edc770-de22-4ab3-8934-8ef40c5f5ff8",
   "metadata": {
    "tags": []
   },
   "outputs": [],
   "source": [
    "import sklearn"
   ]
  },
  {
   "cell_type": "code",
   "execution_count": null,
   "id": "4d874cbe-ef04-450b-bef4-b7157b65af0f",
   "metadata": {
    "tags": []
   },
   "outputs": [],
   "source": [
    "sklearn.set_config(transform_output=\"pandas\")"
   ]
  },
  {
   "cell_type": "code",
   "execution_count": null,
   "id": "c0a56149-696a-47fe-a17b-b07af306ac44",
   "metadata": {
    "tags": []
   },
   "outputs": [],
   "source": [
    "from sklearn.pipeline import Pipeline\n",
    "from sklearn.impute import SimpleImputer\n",
    "\n",
    "num_prep = Pipeline([\n",
    "    ('imputer', SimpleImputer()),\n",
    "    ('scaler', StandardScaler())\n",
    "])"
   ]
  },
  {
   "cell_type": "code",
   "execution_count": null,
   "id": "f5f447ab-ead8-43e4-8181-d165220c6312",
   "metadata": {
    "tags": []
   },
   "outputs": [],
   "source": [
    "num_prep.fit_transform(X_train[numerical_features])"
   ]
  },
  {
   "cell_type": "markdown",
   "id": "e47723e0-345e-4eff-8d16-9871c2d2f880",
   "metadata": {},
   "source": [
    "### Categorical features"
   ]
  },
  {
   "cell_type": "code",
   "execution_count": null,
   "id": "d68f0671-b529-4250-adec-1bcad46b1945",
   "metadata": {
    "tags": []
   },
   "outputs": [],
   "source": [
    "missing_values"
   ]
  },
  {
   "cell_type": "code",
   "execution_count": null,
   "id": "839a59e6-e856-4321-a492-010df9a7b370",
   "metadata": {
    "tags": []
   },
   "outputs": [],
   "source": [
    "categorical_features = [\"sex\", \"embarked\"]"
   ]
  },
  {
   "cell_type": "code",
   "execution_count": null,
   "id": "33fd0ead-8033-4b3b-922f-4b3c6985ce36",
   "metadata": {
    "tags": []
   },
   "outputs": [],
   "source": [
    "cat_prep = OneHotEncoder(handle_unknown='ignore', sparse_output=False)"
   ]
  },
  {
   "cell_type": "code",
   "execution_count": null,
   "id": "c3114368-222c-4b40-8981-3fd52ae83ce0",
   "metadata": {
    "tags": []
   },
   "outputs": [],
   "source": [
    "cat_prep.fit_transform(X_train[categorical_features])"
   ]
  },
  {
   "cell_type": "markdown",
   "id": "e4b3faf8-86ca-4b1d-8e28-a194a1179693",
   "metadata": {},
   "source": [
    "## ColumnTransformer!"
   ]
  },
  {
   "cell_type": "code",
   "execution_count": null,
   "id": "905ead1b-57f0-4e20-9fc9-9684f16973da",
   "metadata": {
    "tags": []
   },
   "outputs": [],
   "source": [
    "ct = ColumnTransformer([\n",
    "    (\"numerical\", num_prep, numerical_features),\n",
    "    (\"categorical\", cat_prep, categorical_features),\n",
    "])"
   ]
  },
  {
   "cell_type": "code",
   "execution_count": null,
   "id": "a54940c7-151d-417f-a56f-d55db67e02e2",
   "metadata": {
    "tags": []
   },
   "outputs": [],
   "source": [
    "ct.fit_transform(X_train)"
   ]
  },
  {
   "cell_type": "code",
   "execution_count": null,
   "id": "0292975a-c456-49f7-8371-866ca608f283",
   "metadata": {
    "tags": []
   },
   "outputs": [],
   "source": [
    "ct = ColumnTransformer([\n",
    "    (\"numerical\", num_prep, numerical_features),\n",
    "    (\"categorical\", cat_prep, categorical_features),\n",
    "], verbose_feature_names_out=False)"
   ]
  },
  {
   "cell_type": "code",
   "execution_count": null,
   "id": "1cef7949-99aa-4fdf-be5b-e36b601718b0",
   "metadata": {
    "tags": []
   },
   "outputs": [],
   "source": [
    "ct.fit_transform(X_train)"
   ]
  },
  {
   "cell_type": "markdown",
   "id": "0c32d293-93cd-4222-a9bd-819412414cce",
   "metadata": {},
   "source": [
    "## ML Pipeline"
   ]
  },
  {
   "cell_type": "code",
   "execution_count": null,
   "id": "6b8d65b1-d0de-4967-b913-3d7ee188df13",
   "metadata": {
    "tags": []
   },
   "outputs": [],
   "source": [
    "from sklearn.pipeline import make_pipeline, Pipeline\n",
    "from sklearn.linear_model import LogisticRegression"
   ]
  },
  {
   "cell_type": "code",
   "execution_count": null,
   "id": "ac20ea2c-4111-4c93-b9be-595eaa5ac400",
   "metadata": {
    "tags": []
   },
   "outputs": [],
   "source": [
    "log_reg = Pipeline([\n",
    "    ('preprocess', ct),\n",
    "    ('log_reg', LogisticRegression(random_state=42))\n",
    "])"
   ]
  },
  {
   "cell_type": "code",
   "execution_count": null,
   "id": "4988a02d-f18c-45db-ba8d-f83d6bb4b5af",
   "metadata": {
    "tags": []
   },
   "outputs": [],
   "source": [
    "log_reg.fit(X_train, y_train)"
   ]
  },
  {
   "cell_type": "code",
   "execution_count": null,
   "id": "d07b6fda-7242-47d9-9cdb-4a1af587bac1",
   "metadata": {
    "tags": []
   },
   "outputs": [],
   "source": [
    "log_reg.score(X_test, y_test)"
   ]
  },
  {
   "cell_type": "markdown",
   "id": "0aa73b3e-e845-4856-a2fa-22418bfdbe9c",
   "metadata": {},
   "source": [
    "## Random Forest"
   ]
  },
  {
   "cell_type": "code",
   "execution_count": null,
   "id": "51b3b94c-933a-4cdb-a990-4333a87d0ebd",
   "metadata": {
    "tags": []
   },
   "outputs": [],
   "source": [
    "from sklearn.ensemble import RandomForestClassifier"
   ]
  },
  {
   "cell_type": "code",
   "execution_count": null,
   "id": "824c210b-4d9c-481a-9359-b5ef2472a2d8",
   "metadata": {
    "tags": []
   },
   "outputs": [],
   "source": [
    "rf = Pipeline([\n",
    "    ('preprocess', ct),\n",
    "    ('log_reg', RandomForestClassifier(random_state=42))\n",
    "])"
   ]
  },
  {
   "cell_type": "code",
   "execution_count": null,
   "id": "e74b8534-c3f8-4c4a-871b-bc31b0854e1f",
   "metadata": {
    "tags": []
   },
   "outputs": [],
   "source": [
    "rf.fit(X_train, y_train)"
   ]
  },
  {
   "cell_type": "code",
   "execution_count": null,
   "id": "c9ab7161-e3da-4c4b-afc1-5e5f1485bcb6",
   "metadata": {
    "tags": []
   },
   "outputs": [],
   "source": [
    "rf.score(X_train, y_train)"
   ]
  },
  {
   "cell_type": "markdown",
   "id": "630c98d1-fb9d-4a4c-a694-80af9171cc46",
   "metadata": {},
   "source": [
    "## Exercise 1\n",
    "\n",
    "1. The Penguin dataset is loaded into `X` and `y`. Is `y` a classification or regression problem?\n",
    "1. What are the feature names in the dataset?\n",
    "1. Which features have missing values?\n",
    "1. What are the categorical features and the numerical features? Store them into `categorical_features` and `numerical_features` respectively.\n",
    "    - **Hint:** Use `df.select_dtypes(include=\"category\").columns` to find the cateogrical features\n",
    "    - **Hint:** Use `df.select_dtypes(include=\"number\").columns` to find the numerical features"
   ]
  },
  {
   "cell_type": "code",
   "execution_count": null,
   "id": "2be21f76-f637-4bd3-9162-07dcc62de8f6",
   "metadata": {
    "tags": []
   },
   "outputs": [],
   "source": [
    "from sklearn.datasets import fetch_openml\n",
    "\n",
    "penguins = fetch_openml(data_id=42585, as_frame=True, parser=\"pandas\")\n",
    "\n",
    "X, y = penguins.data, penguins.target"
   ]
  },
  {
   "cell_type": "code",
   "execution_count": null,
   "id": "08534a10-f5cf-42f1-9096-35ac18650808",
   "metadata": {},
   "outputs": [],
   "source": []
  },
  {
   "cell_type": "markdown",
   "id": "e753a47a-8195-4433-821f-0b466330a328",
   "metadata": {},
   "source": [
    "**If you are running locally**, you can uncomment the following cell to load the solution into the cell. On **Google Colab**, [see solution here](https://github.com/thomasjpfan/ml-workshop-intermediate-v2/blob/main/notebooks/solutions/02-ex01-solutions.py). "
   ]
  },
  {
   "cell_type": "code",
   "execution_count": null,
   "id": "0c3259f2-67e8-4db0-856a-95f306ece5e4",
   "metadata": {
    "tags": []
   },
   "outputs": [],
   "source": [
    "# %load solutions/02-ex01-solutions.py"
   ]
  },
  {
   "cell_type": "markdown",
   "id": "5240bc4a-9f90-4fa7-be05-d24a402141cf",
   "metadata": {},
   "source": [
    "## Exercise 2\n",
    "\n",
    "1. Use `train_test_split` to split data into a training and test set. **Hint:** Use `random_state=0` and `stratify`\n",
    "1. Build a `ColumnTransformer` for the penguin dataset with the following transformers:\n",
    "    - For the numerical features use a `SimpleImputer`\n",
    "    - For the categorical features use a `OrdinalEncoder` with `encoded_missing_value=-1`.\n",
    "    - **Hint:** Use `verbose_feature_names_out=False`\n",
    "1. Build a pipeline with the `ColumnTransformer` from the previous step and a `RandomForestClassifier` with `random_state=0`.\n",
    "1. Evalute the model on the test set."
   ]
  },
  {
   "cell_type": "code",
   "execution_count": null,
   "id": "d8c28938-3168-47f8-aef6-bd26d9315a42",
   "metadata": {},
   "outputs": [],
   "source": []
  },
  {
   "cell_type": "markdown",
   "id": "7eddb437-e693-42cd-8de7-673d10e03cb0",
   "metadata": {},
   "source": [
    "**If you are running locally**, you can uncomment the following cell to load the solution into the cell. On **Google Colab**, [see solution here](https://github.com/thomasjpfan/ml-workshop-intermediate-v2/blob/main/notebooks/solutions/02-ex02-solutions.py). "
   ]
  },
  {
   "cell_type": "code",
   "execution_count": null,
   "id": "e488a85a-333e-416f-993c-4d019838193a",
   "metadata": {
    "tags": []
   },
   "outputs": [],
   "source": [
    "# %load solutions/02-ex02-solutions.py"
   ]
  }
 ],
 "metadata": {
  "kernelspec": {
   "display_name": "Python 3 (ipykernel)",
   "language": "python",
   "name": "python3"
  },
  "language_info": {
   "codemirror_mode": {
    "name": "ipython",
    "version": 3
   },
   "file_extension": ".py",
   "mimetype": "text/x-python",
   "name": "python",
   "nbconvert_exporter": "python",
   "pygments_lexer": "ipython3",
   "version": "3.10.10"
  }
 },
 "nbformat": 4,
 "nbformat_minor": 5
}
