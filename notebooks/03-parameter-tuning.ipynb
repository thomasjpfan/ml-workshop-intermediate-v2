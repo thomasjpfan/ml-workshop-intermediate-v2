{
 "cells": [
  {
   "cell_type": "markdown",
   "id": "617dbbe4-2ec5-4667-9478-0f4445198b49",
   "metadata": {
    "tags": []
   },
   "source": [
    "# Parameter Tuning\n",
    "\n",
    "In this notebook, we learn about tuning parameters using tradiational methods such as random and grid search and newer methods such as Successive Halving.\n",
    "\n",
    "<a href=\"https://colab.research.google.com/github/thomasjpfan/ml-workshop-intermediate-v2/blob/main/notebooks/03-parameter-tuning.ipynb\"><img src=\"https://colab.research.google.com/assets/colab-badge.svg\" alt=\"Open in Colab\" title=\"Open and Execute in Google Colaboratory\"></a>"
   ]
  },
  {
   "cell_type": "code",
   "execution_count": null,
   "id": "8da08205-bd7a-42ac-b343-2e028b799f5f",
   "metadata": {
    "tags": []
   },
   "outputs": [],
   "source": [
    "# Install dependencies for google colab\n",
    "import sys\n",
    "IN_COLAB = 'google.colab' in sys.modules\n",
    "if IN_COLAB:\n",
    "    %pip install -r https://raw.githubusercontent.com/thomasjpfan/ml-workshop-intermediate-v2/main/requirements.txt"
   ]
  },
  {
   "cell_type": "code",
   "execution_count": null,
   "id": "5d4ca972-cb90-499c-b412-23af1f656b47",
   "metadata": {
    "tags": []
   },
   "outputs": [],
   "source": [
    "import sklearn\n",
    "assert sklearn.__version__.startswith(\"1.2\"), \"Please install scikit-learn 1.2\""
   ]
  },
  {
   "cell_type": "markdown",
   "id": "d22fe247-e24d-46a5-a121-6b473606af07",
   "metadata": {},
   "source": [
    "## Digits dataset"
   ]
  },
  {
   "cell_type": "code",
   "execution_count": null,
   "id": "432491ae-a6b8-4341-be52-dd644ee6c21d",
   "metadata": {
    "tags": []
   },
   "outputs": [],
   "source": [
    "from sklearn.datasets import load_digits\n",
    "from sklearn.model_selection import train_test_split\n",
    "\n",
    "digits = load_digits()\n",
    "X, y = digits.data, digits.target\n",
    "\n",
    "X_train, X_test, y_train, y_test = train_test_split(\n",
    "    X, y, random_state=42, stratify=y\n",
    ")"
   ]
  },
  {
   "cell_type": "code",
   "execution_count": null,
   "id": "a47698ff-4c72-4f47-b0b0-6d66103198f1",
   "metadata": {
    "tags": []
   },
   "outputs": [],
   "source": [
    "X_train[0]"
   ]
  },
  {
   "cell_type": "code",
   "execution_count": null,
   "id": "05aa55cc-560f-4f11-8857-cfb144153800",
   "metadata": {
    "tags": []
   },
   "outputs": [],
   "source": [
    "import matplotlib.pyplot as plt\n",
    "\n",
    "fig, axes = plt.subplots(4, 4)\n",
    "for i, ax in zip(range(16), axes.ravel()):\n",
    "    ax.imshow(X[i].reshape(8, 8), cmap=\"gray_r\")\n",
    "    ax.set(xticks=(), yticks=(), title=y[i])\n",
    "plt.tight_layout()"
   ]
  },
  {
   "cell_type": "code",
   "execution_count": null,
   "id": "b1de9fce-65e7-4f3e-8f87-d7dd0443228c",
   "metadata": {
    "tags": []
   },
   "outputs": [],
   "source": [
    "from sklearn.model_selection import GridSearchCV\n",
    "from sklearn.ensemble import RandomForestClassifier"
   ]
  },
  {
   "cell_type": "code",
   "execution_count": null,
   "id": "7d52395c-e1eb-4510-a91a-6cbe932d793a",
   "metadata": {
    "tags": []
   },
   "outputs": [],
   "source": [
    "params = {\n",
    "    'max_depth': [2, 4, 8, 12, 16],\n",
    "    'max_features': [4, 8, 16, 32]\n",
    "}"
   ]
  },
  {
   "cell_type": "code",
   "execution_count": null,
   "id": "432f096a-1c7c-44f2-beef-5a1bf7d6c181",
   "metadata": {
    "tags": []
   },
   "outputs": [],
   "source": [
    "grid_search = GridSearchCV(\n",
    "    RandomForestClassifier(random_state=42), param_grid=params,\n",
    "    verbose=1,\n",
    "    n_jobs=2, # Update to the number of physical cpu cores\n",
    ")  "
   ]
  },
  {
   "cell_type": "code",
   "execution_count": null,
   "id": "af769e33-849f-40c3-926e-ff6a415486a9",
   "metadata": {
    "tags": []
   },
   "outputs": [],
   "source": [
    "grid_search.fit(X_train, y_train)"
   ]
  },
  {
   "cell_type": "code",
   "execution_count": null,
   "id": "839522ac",
   "metadata": {
    "tags": []
   },
   "outputs": [],
   "source": [
    "grid_search.best_score_"
   ]
  },
  {
   "cell_type": "code",
   "execution_count": null,
   "id": "f071e987-d61d-47ae-aba4-1b142028bff6",
   "metadata": {
    "tags": []
   },
   "outputs": [],
   "source": [
    "grid_search.best_params_"
   ]
  },
  {
   "cell_type": "code",
   "execution_count": null,
   "id": "2ef60c6a-1154-4b70-a4ec-5a184774f343",
   "metadata": {
    "tags": []
   },
   "outputs": [],
   "source": [
    "grid_search.score(X_test, y_test)"
   ]
  },
  {
   "cell_type": "markdown",
   "id": "dbcac0ef-8dd8-4526-9cef-f9d9f348fa14",
   "metadata": {},
   "source": [
    "### Viewing results as a dataframe"
   ]
  },
  {
   "cell_type": "code",
   "execution_count": null,
   "id": "49153873-8253-47f8-b4a7-2852a3aea0d0",
   "metadata": {
    "tags": []
   },
   "outputs": [],
   "source": [
    "import pandas as pd\n",
    "cv_df = pd.DataFrame(grid_search.cv_results_)"
   ]
  },
  {
   "cell_type": "code",
   "execution_count": null,
   "id": "ddf69e44-11e3-4af3-ae97-e3f6ddb97168",
   "metadata": {
    "tags": []
   },
   "outputs": [],
   "source": [
    "cv_df.head()"
   ]
  },
  {
   "cell_type": "code",
   "execution_count": null,
   "id": "0b70d299-0cba-4e11-9266-5bac67dfed19",
   "metadata": {
    "tags": []
   },
   "outputs": [],
   "source": [
    "param_results = (cv_df\n",
    "    .astype({\"param_max_depth\": int, \"param_max_features\": int})\n",
    "    .pivot(\n",
    "        index=\"param_max_depth\",\n",
    "        columns=\"param_max_features\",\n",
    "        values=\"mean_test_score\"\n",
    "    )\n",
    "    .rename_axis(index='max_depth', columns='max_features')\n",
    ")"
   ]
  },
  {
   "cell_type": "code",
   "execution_count": null,
   "id": "84a99a65-518d-47cd-b5e7-8aa0d081c915",
   "metadata": {
    "tags": []
   },
   "outputs": [],
   "source": [
    "param_results"
   ]
  },
  {
   "cell_type": "code",
   "execution_count": null,
   "id": "b1331e2f-c99b-4169-b81f-0077aa791888",
   "metadata": {
    "tags": []
   },
   "outputs": [],
   "source": [
    "import seaborn as sns"
   ]
  },
  {
   "cell_type": "code",
   "execution_count": null,
   "id": "80828217-afca-45ac-a6bd-494f34f1d617",
   "metadata": {
    "tags": []
   },
   "outputs": [],
   "source": [
    "_ = sns.heatmap(param_results, cmap='viridis')"
   ]
  },
  {
   "cell_type": "markdown",
   "id": "772db959-1ae8-4a85-8c89-086c074ae010",
   "metadata": {},
   "source": [
    "## Exercise 1\n",
    "\n",
    "1. Use a `RandomSearchCV` with the following parameter distrubution for `RandomForestClassifier`:\n",
    "\n",
    "```python\n",
    "from scipy.stats import randint\n",
    "\n",
    "param_dist = {\n",
    "    \"max_features\": randint(1, 11),\n",
    "    \"min_samples_split\": randint(2, 11)\n",
    "}\n",
    "```\n",
    "\n",
    "Set `random_state=0` to have reproducable results and `n_iter=20`.\n",
    "\n",
    "2. What were the best hyper-parameters found by the random search?\n",
    "3. Evaluate the model on the test set.\n",
    "4. Use `HalvingRandomSearchCV` with the same `param_dist`. What is the best hyper-parameters found by this search? Evaluate on the test set.\n",
    "    - **Hint**: `n_iter` is not required and set `verbose=1`"
   ]
  },
  {
   "cell_type": "code",
   "execution_count": null,
   "id": "53533cf0-8643-4407-8117-54ce9f8d4e4f",
   "metadata": {
    "tags": []
   },
   "outputs": [],
   "source": [
    "from scipy.stats import randint\n",
    "\n",
    "from sklearn.ensemble import RandomForestClassifier\n",
    "from sklearn.model_selection import RandomizedSearchCV\n",
    "from sklearn.experimental import enable_halving_search_cv\n",
    "from sklearn.model_selection import HalvingRandomSearchCV\n",
    "\n",
    "param_dist = {\n",
    "    \"max_features\": randint(1, 11),\n",
    "    \"min_samples_split\": randint(2, 11)\n",
    "}"
   ]
  },
  {
   "cell_type": "code",
   "execution_count": null,
   "id": "35cf77e6-9c38-47e5-aace-dabc98a8a02b",
   "metadata": {},
   "outputs": [],
   "source": []
  },
  {
   "cell_type": "markdown",
   "id": "40716291-90a1-4b32-bcd5-f1a2e29056d4",
   "metadata": {},
   "source": [
    "**If you are running locally**, you can uncomment the following cell to load the solution into the cell. On **Google Colab**, [see solution here](https://github.com/thomasjpfan/ml-workshop-intermediate-v2/blob/main/notebooks/solutions/03-ex01-solutions.py). "
   ]
  },
  {
   "cell_type": "code",
   "execution_count": null,
   "id": "9303a299-b823-4174-bfcd-2d645421d71f",
   "metadata": {
    "tags": []
   },
   "outputs": [],
   "source": [
    "# %load solutions/03-ex01-solutions.py"
   ]
  },
  {
   "cell_type": "markdown",
   "id": "afe21a0b-5fbb-4bf9-838e-0023c43cd8ac",
   "metadata": {
    "tags": []
   },
   "source": [
    "## Searching Pipelines and ColumnTransformer"
   ]
  },
  {
   "cell_type": "code",
   "execution_count": null,
   "id": "617b6920-c2e7-44c5-a8df-bc92326c9bb8",
   "metadata": {
    "tags": []
   },
   "outputs": [],
   "source": [
    "from sklearn.datasets import fetch_openml\n",
    "from sklearn.model_selection import train_test_split\n",
    "\n",
    "penguins = fetch_openml(data_id=42585, as_frame=True, parser=\"pandas\")\n",
    "X, y = penguins.data, penguins.target\n",
    "\n",
    "X_train, X_test, y_train, y_test = train_test_split(\n",
    "    X, y, stratify=y, random_state=0\n",
    ")"
   ]
  },
  {
   "cell_type": "code",
   "execution_count": null,
   "id": "d3049501-8578-4944-9036-e4b6cb4038f3",
   "metadata": {
    "tags": []
   },
   "outputs": [],
   "source": [
    "numerical_features = [\n",
    "    'culmen_length_mm', 'culmen_depth_mm', 'flipper_length_mm', 'body_mass_g']\n",
    "categorical_features = ['island', 'sex']"
   ]
  },
  {
   "cell_type": "markdown",
   "id": "cebce839-c9f4-4921-aa5c-6c46897c4ccc",
   "metadata": {},
   "source": [
    "## Preprocessing"
   ]
  },
  {
   "cell_type": "code",
   "execution_count": null,
   "id": "8add46b0-7966-4014-867b-f4765372c4f9",
   "metadata": {
    "tags": []
   },
   "outputs": [],
   "source": [
    "from sklearn.preprocessing import SplineTransformer\n",
    "from sklearn.impute import SimpleImputer\n",
    "from sklearn.preprocessing import StandardScaler\n",
    "from sklearn.pipeline import Pipeline\n",
    "import sklearn"
   ]
  },
  {
   "cell_type": "code",
   "execution_count": null,
   "id": "967b3780-0b4e-4c2c-9b46-f2797038bff3",
   "metadata": {
    "tags": []
   },
   "outputs": [],
   "source": [
    "sklearn.set_config(transform_output=\"pandas\")"
   ]
  },
  {
   "cell_type": "markdown",
   "id": "1387cd29-14dd-4feb-a178-fe06d9d47fb1",
   "metadata": {},
   "source": [
    "### Numerical features"
   ]
  },
  {
   "cell_type": "code",
   "execution_count": null,
   "id": "48533d82-e731-455d-ae4e-0a3780359bf5",
   "metadata": {
    "tags": []
   },
   "outputs": [],
   "source": [
    "num_prep = Pipeline([\n",
    "    (\"imputer\", SimpleImputer()),\n",
    "    (\"scalar\", StandardScaler()),\n",
    "    (\"spline\", SplineTransformer())\n",
    "])"
   ]
  },
  {
   "cell_type": "markdown",
   "id": "9e645e0d-e71b-4200-95cb-4b8411c14874",
   "metadata": {},
   "source": [
    "### Categorical features"
   ]
  },
  {
   "cell_type": "code",
   "execution_count": null,
   "id": "bd016d85-e7b4-4c6f-8a64-8547ca5aeeb5",
   "metadata": {
    "tags": []
   },
   "outputs": [],
   "source": [
    "from sklearn.preprocessing import OneHotEncoder\n",
    "cat_prep = OneHotEncoder(sparse_output=False, handle_unknown=\"ignore\")"
   ]
  },
  {
   "cell_type": "markdown",
   "id": "8d109f04-ffca-4c11-9c3e-44dc3ea51422",
   "metadata": {},
   "source": [
    "### ColumnTransformer"
   ]
  },
  {
   "cell_type": "code",
   "execution_count": null,
   "id": "e2bfbe63-a906-45c2-99d2-6260dfdd33f7",
   "metadata": {
    "tags": []
   },
   "outputs": [],
   "source": [
    "from sklearn.compose import ColumnTransformer"
   ]
  },
  {
   "cell_type": "code",
   "execution_count": null,
   "id": "5c025d45-6389-4109-91a5-3c70a850598c",
   "metadata": {
    "tags": []
   },
   "outputs": [],
   "source": [
    "ct = ColumnTransformer([\n",
    "    (\"numerical\", num_prep, numerical_features),\n",
    "    (\"categorical\", cat_prep, categorical_features),\n",
    "], verbose_feature_names_out=False)"
   ]
  },
  {
   "cell_type": "markdown",
   "id": "852f75a5-d195-4cf9-b545-1b8757af0fda",
   "metadata": {},
   "source": [
    "## Pipeline"
   ]
  },
  {
   "cell_type": "code",
   "execution_count": null,
   "id": "9483cd69-3b89-4785-ab80-776ec7924318",
   "metadata": {
    "tags": []
   },
   "outputs": [],
   "source": [
    "from sklearn.linear_model import LogisticRegression\n",
    "\n",
    "log_reg = Pipeline([\n",
    "    (\"prep\", ct),\n",
    "    (\"log_reg\", LogisticRegression(solver=\"liblinear\"))\n",
    "])\n",
    "log_reg"
   ]
  },
  {
   "cell_type": "markdown",
   "id": "720938ff-ccc9-4c4f-a572-30d9212bde9e",
   "metadata": {},
   "source": [
    "## Searching"
   ]
  },
  {
   "cell_type": "code",
   "execution_count": null,
   "id": "bc28088a-39df-4dde-8746-a685b0b9495f",
   "metadata": {
    "tags": []
   },
   "outputs": [],
   "source": [
    "log_reg.get_params()"
   ]
  },
  {
   "cell_type": "code",
   "execution_count": null,
   "id": "fa93e481-0cd2-486a-821d-8fd04ab9ed6c",
   "metadata": {
    "tags": []
   },
   "outputs": [],
   "source": [
    "params = {\n",
    "    \"prep__numerical__spline__degree\": [3, 4, 5],\n",
    "    \"prep__numerical__imputer__strategy\": [\"mean\", \"median\"],\n",
    "    \"prep__numerical__imputer__add_indicator\": [True, False],\n",
    "    \"log_reg__penalty\": [\"l1\", \"l2\"],\n",
    "}"
   ]
  },
  {
   "cell_type": "code",
   "execution_count": null,
   "id": "b7aea877-8c02-46ee-b85a-a5f3999be25c",
   "metadata": {
    "tags": []
   },
   "outputs": [],
   "source": [
    "from sklearn.model_selection import HalvingGridSearchCV"
   ]
  },
  {
   "cell_type": "code",
   "execution_count": null,
   "id": "67cf0e52-a407-4f0a-b9c9-e8f3a6baf606",
   "metadata": {
    "tags": []
   },
   "outputs": [],
   "source": [
    "grid_search = HalvingGridSearchCV(\n",
    "    log_reg, params, verbose=1, n_jobs=2,\n",
    ")"
   ]
  },
  {
   "cell_type": "code",
   "execution_count": null,
   "id": "bc1dd507-7992-4aae-8e0f-3c3aca50a8d2",
   "metadata": {
    "tags": []
   },
   "outputs": [],
   "source": [
    "grid_search.fit(X_train, y_train)"
   ]
  },
  {
   "cell_type": "code",
   "execution_count": null,
   "id": "8571e949-5806-487c-94f4-91de7b0b05da",
   "metadata": {
    "tags": []
   },
   "outputs": [],
   "source": [
    "grid_search.score(X_test, y_test)"
   ]
  },
  {
   "cell_type": "code",
   "execution_count": null,
   "id": "32b2bcc4-6fa4-4ff7-b342-031b0c36285a",
   "metadata": {
    "tags": []
   },
   "outputs": [],
   "source": [
    "grid_search.best_params_"
   ]
  },
  {
   "cell_type": "markdown",
   "id": "7301d0b5-41cf-434c-b110-42a3359c8ecb",
   "metadata": {
    "tags": []
   },
   "source": [
    "## Exercise 2\n",
    "\n",
    "1. A `column_transformer` is provided to preprocess the penguin dataset. Call `fit_transform` on `X_train` and store the output as `X_train_transformed`.\n",
    "1. Are there missing values in the transformed dataset?\n",
    "1. Construct a Pipeline with the `column_transformer` and a `HistGradientBoostingClassifier`.\n",
    "    - **Hint:** Set the `random_state=0` for the gradient booster.\n",
    "1. Create a `HalvingGridSearchCV` with that searches through the following params in the gradient booster:\n",
    "     - `l2_regularization`: `[0.01, 0.1, 1, 10]`\n",
    "     - `max_bins`: `[32, 64, 128, 255]`\n",
    "     - **Hint**: Use `get_params` to get the parameter name to search through.\n",
    "     - **Hint**: Set `verbose=1`\n",
    "1. What is the best hyper-parameters found by this search?\n",
    "1. Evaluate on the test set."
   ]
  },
  {
   "cell_type": "code",
   "execution_count": null,
   "id": "98ebae8e-4a8f-4ee0-a443-62db73a9b8bf",
   "metadata": {
    "tags": []
   },
   "outputs": [],
   "source": [
    "from sklearn.preprocessing import OrdinalEncoder\n",
    "from sklearn.ensemble import HistGradientBoostingClassifier\n",
    "import numpy as np\n",
    "\n",
    "cat_prep = OrdinalEncoder(handle_unknown=\"use_encoded_value\", unknown_value=np.nan)\n",
    "\n",
    "column_transformer = ColumnTransformer([\n",
    "    (\"categorical\", cat_prep, categorical_features),\n",
    "    (\"numerical\", \"passthrough\", numerical_features),\n",
    "])"
   ]
  },
  {
   "cell_type": "code",
   "execution_count": null,
   "id": "be0e83d5-a3a3-41c0-b646-41b3684a91b6",
   "metadata": {},
   "outputs": [],
   "source": []
  },
  {
   "cell_type": "markdown",
   "id": "8711787f-f27d-4a29-9ef6-c846f14795b2",
   "metadata": {},
   "source": [
    "**If you are running locally**, you can uncomment the following cell to load the solution into the cell. On **Google Colab**, [see solution here](https://github.com/thomasjpfan/ml-workshop-intermediate-v2/blob/main/notebooks/solutions/03-ex02-solutions.py). "
   ]
  },
  {
   "cell_type": "code",
   "execution_count": null,
   "id": "b4f47aaa-49f4-4e2e-b7c9-2389fe943cca",
   "metadata": {
    "tags": []
   },
   "outputs": [],
   "source": [
    "# %load solutions/03-ex02-solutions.py"
   ]
  }
 ],
 "metadata": {
  "kernelspec": {
   "display_name": "Python 3 (ipykernel)",
   "language": "python",
   "name": "python3"
  },
  "language_info": {
   "codemirror_mode": {
    "name": "ipython",
    "version": 3
   },
   "file_extension": ".py",
   "mimetype": "text/x-python",
   "name": "python",
   "nbconvert_exporter": "python",
   "pygments_lexer": "ipython3",
   "version": "3.10.10"
  }
 },
 "nbformat": 4,
 "nbformat_minor": 5
}
