{
 "cells": [
  {
   "attachments": {},
   "cell_type": "markdown",
   "id": "96ec3141-4261-4d3f-989c-0e40bfb4702d",
   "metadata": {
    "tags": []
   },
   "source": [
    "# Model Evaluation\n",
    "\n",
    "In this notebook, we learn about how to use scikit-learn for model evaluation.\n",
    "\n",
    "<a href=\"https://colab.research.google.com/github/thomasjpfan/ml-workshop-intermediate-v2/blob/main/notebooks/04-model-evaluation.ipynb\"><img src=\"https://colab.research.google.com/assets/colab-badge.svg\" alt=\"Open in Colab\" title=\"Open and Execute in Google Colaboratory\"></a>"
   ]
  },
  {
   "cell_type": "code",
   "execution_count": null,
   "id": "8da08205-bd7a-42ac-b343-2e028b799f5f",
   "metadata": {
    "tags": []
   },
   "outputs": [],
   "source": [
    "# Install dependencies for google colab\n",
    "import sys\n",
    "IN_COLAB = 'google.colab' in sys.modules\n",
    "if IN_COLAB:\n",
    "    %pip install -r https://raw.githubusercontent.com/thomasjpfan/ml-workshop-intermediate-v2/main/requirements.txt"
   ]
  },
  {
   "cell_type": "code",
   "execution_count": null,
   "id": "5d4ca972-cb90-499c-b412-23af1f656b47",
   "metadata": {
    "tags": []
   },
   "outputs": [],
   "source": [
    "import sklearn\n",
    "assert sklearn.__version__.startswith(\"1.2\"), \"Please install scikit-learn 1.2\""
   ]
  },
  {
   "cell_type": "code",
   "execution_count": null,
   "id": "24977eb3-1d24-4c90-9f93-d4d17f5e652a",
   "metadata": {
    "tags": []
   },
   "outputs": [],
   "source": [
    "import seaborn as sns\n",
    "import matplotlib.pyplot as plt\n",
    "sns.set_theme()\n",
    "plt.rcParams['figure.constrained_layout.use'] = True"
   ]
  },
  {
   "attachments": {},
   "cell_type": "markdown",
   "id": "08739c51-c1fd-4b54-989b-0cd37c773b6a",
   "metadata": {},
   "source": [
    "## Load mammography dataset"
   ]
  },
  {
   "cell_type": "code",
   "execution_count": null,
   "id": "33f9c40b-233f-4315-870b-e6eecb0b69d6",
   "metadata": {
    "tags": []
   },
   "outputs": [],
   "source": [
    "from sklearn.datasets import fetch_openml\n",
    "\n",
    "mammography = fetch_openml(data_id=310, as_frame=True, parser=\"pandas\")\n",
    "X, y = mammography.data, mammography.target"
   ]
  },
  {
   "cell_type": "code",
   "execution_count": null,
   "id": "2e892dca-acf7-4042-ac90-16a493e76387",
   "metadata": {
    "tags": []
   },
   "outputs": [],
   "source": [
    "X.head()"
   ]
  },
  {
   "cell_type": "code",
   "execution_count": null,
   "id": "93c99a0b-97de-40d8-9f22-67aa5bcdfbd6",
   "metadata": {
    "tags": []
   },
   "outputs": [],
   "source": [
    "y.value_counts()"
   ]
  },
  {
   "cell_type": "code",
   "execution_count": null,
   "id": "ef288533-99f8-4152-aced-dc90b26f881d",
   "metadata": {
    "tags": []
   },
   "outputs": [],
   "source": [
    "y = (y == '1').astype('int')"
   ]
  },
  {
   "cell_type": "code",
   "execution_count": null,
   "id": "2326eb76-e160-405f-8027-d0e7d3f6f16d",
   "metadata": {
    "tags": []
   },
   "outputs": [],
   "source": [
    "y"
   ]
  },
  {
   "cell_type": "code",
   "execution_count": null,
   "id": "a495d439-eaad-4c2d-b12f-5adf9d9795f8",
   "metadata": {
    "tags": []
   },
   "outputs": [],
   "source": [
    "from sklearn.model_selection import train_test_split\n",
    "\n",
    "X_train, X_test, y_train, y_test = train_test_split(\n",
    "    X, y, stratify=y, random_state=42\n",
    ")"
   ]
  },
  {
   "attachments": {},
   "cell_type": "markdown",
   "id": "a602cf59-7d49-4b65-a10e-e8821f21999f",
   "metadata": {},
   "source": [
    "## Train models for evaluation"
   ]
  },
  {
   "attachments": {},
   "cell_type": "markdown",
   "id": "70746a40-5a4b-40cd-9ace-eba5520b09cc",
   "metadata": {},
   "source": [
    "### Linear model"
   ]
  },
  {
   "cell_type": "code",
   "execution_count": null,
   "id": "e13bf487-11fb-4504-803d-ecdb7eb0d574",
   "metadata": {
    "tags": []
   },
   "outputs": [],
   "source": [
    "from sklearn.preprocessing import StandardScaler\n",
    "from sklearn.linear_model import LogisticRegression\n",
    "from sklearn.pipeline import make_pipeline"
   ]
  },
  {
   "cell_type": "code",
   "execution_count": null,
   "id": "373c5bb3-8e83-4e1c-9a2f-c21c9f5113ef",
   "metadata": {
    "tags": []
   },
   "outputs": [],
   "source": [
    "log_reg = make_pipeline(\n",
    "    StandardScaler(),\n",
    "    LogisticRegression()\n",
    ")\n",
    "log_reg.fit(X_train, y_train)"
   ]
  },
  {
   "cell_type": "code",
   "execution_count": null,
   "id": "2bbf38d8-8ba7-4ed9-87c3-1e17c445aa17",
   "metadata": {
    "tags": []
   },
   "outputs": [],
   "source": [
    "y_pred = log_reg.predict(X_test)"
   ]
  },
  {
   "cell_type": "code",
   "execution_count": null,
   "id": "9f6283dc-dccb-4d63-837e-a3cf94734a12",
   "metadata": {
    "tags": []
   },
   "outputs": [],
   "source": [
    "y_pred"
   ]
  },
  {
   "cell_type": "code",
   "execution_count": null,
   "id": "42be378f-38cf-4dce-bcb7-1e99640dabaf",
   "metadata": {
    "tags": []
   },
   "outputs": [],
   "source": [
    "from sklearn.metrics import classification_report\n",
    "\n",
    "print(classification_report(y_test, y_pred))"
   ]
  },
  {
   "attachments": {},
   "cell_type": "markdown",
   "id": "13aaed6d-17ce-4ed5-b917-b5f05af13f68",
   "metadata": {},
   "source": [
    "# Exercise 1\n",
    "\n",
    "1. Fit a `sklearn.ensemble.RandomForestClassifier` model on the training set.\n",
    "    - **Hint**: Use `random_state=0`\n",
    "3. Compute the random forest's predictions on the test set and print the classification report.\n",
    "4. Compare the classification report of the random forest to logistic regression. Which one has the better overall performance?"
   ]
  },
  {
   "cell_type": "code",
   "execution_count": null,
   "id": "f9e40527-de56-4782-a181-89715ef0a900",
   "metadata": {
    "tags": []
   },
   "outputs": [],
   "source": [
    "from sklearn.ensemble import RandomForestClassifier"
   ]
  },
  {
   "cell_type": "code",
   "execution_count": null,
   "id": "354e2bd8-ccac-42ef-9979-4c050defd8e9",
   "metadata": {},
   "outputs": [],
   "source": []
  },
  {
   "attachments": {},
   "cell_type": "markdown",
   "id": "df095f7a-ad65-4501-ae93-e00838d5fd43",
   "metadata": {},
   "source": [
    "**If you are running locally**, you can uncomment the following cell to load the solution into the cell. On **Google Colab**, [see solution here](https://github.com/thomasjpfan/ml-workshop-intermediate-v2/blob/main/notebooks/solutions/04-ex01-solutions.py). "
   ]
  },
  {
   "cell_type": "code",
   "execution_count": null,
   "id": "0bfc8166-e8b8-4dfd-a696-2c0285bf2fd1",
   "metadata": {
    "tags": []
   },
   "outputs": [],
   "source": [
    "# %load solutions/04-ex01-solutions.py"
   ]
  },
  {
   "attachments": {},
   "cell_type": "markdown",
   "id": "30349f30",
   "metadata": {},
   "source": [
    "**Back to slides!**"
   ]
  },
  {
   "attachments": {},
   "cell_type": "markdown",
   "id": "52d7a10c-d3ba-48f4-9b4d-c4d85c3aca4a",
   "metadata": {},
   "source": [
    "## Different Thresholds"
   ]
  },
  {
   "attachments": {},
   "cell_type": "markdown",
   "id": "b665c068-bc81-47c5-87c1-a5b03eff67a5",
   "metadata": {},
   "source": [
    "### Default"
   ]
  },
  {
   "cell_type": "code",
   "execution_count": null,
   "id": "236352bf-d4a4-4d1e-82a1-fae6d47d4990",
   "metadata": {
    "tags": []
   },
   "outputs": [],
   "source": [
    "y_pred = log_reg.predict(X_test)\n",
    "print(classification_report(y_test, y_pred))"
   ]
  },
  {
   "attachments": {},
   "cell_type": "markdown",
   "id": "181030bc-82e4-4076-b51a-50369ef89be2",
   "metadata": {},
   "source": [
    "### Probabilities"
   ]
  },
  {
   "cell_type": "code",
   "execution_count": null,
   "id": "7e0d42d7-3d5e-4424-8bb0-a14d0e57c219",
   "metadata": {
    "tags": []
   },
   "outputs": [],
   "source": [
    "y_proba = log_reg.predict_proba(X_test)"
   ]
  },
  {
   "cell_type": "code",
   "execution_count": null,
   "id": "a5d2a5ac-9647-45b5-b372-7997d7ce9f16",
   "metadata": {
    "tags": []
   },
   "outputs": [],
   "source": [
    "y_proba[65:70]"
   ]
  },
  {
   "cell_type": "code",
   "execution_count": null,
   "id": "14ba46a5-e1e9-43cc-88e1-3bab2acd8b7f",
   "metadata": {
    "tags": []
   },
   "outputs": [],
   "source": [
    "y_pred[65:70]"
   ]
  },
  {
   "attachments": {},
   "cell_type": "markdown",
   "id": "2a67775d-d8ea-4911-a7bc-849d44ea2a31",
   "metadata": {},
   "source": [
    "### Threshold at 0.50"
   ]
  },
  {
   "cell_type": "code",
   "execution_count": null,
   "id": "9a19ee25-d0fa-4120-95b6-a3a363daa7ca",
   "metadata": {
    "tags": []
   },
   "outputs": [],
   "source": [
    "y_pred_50 = y_proba[:, 1] > 0.5\n",
    "print(classification_report(y_test, y_pred_50))"
   ]
  },
  {
   "attachments": {},
   "cell_type": "markdown",
   "id": "e894d969-99f7-4d98-8ce0-dcec3135278c",
   "metadata": {},
   "source": [
    "### Threshold at 0.25"
   ]
  },
  {
   "cell_type": "code",
   "execution_count": null,
   "id": "0abe00fe-74ac-4b29-a60f-e109c7eb9c75",
   "metadata": {
    "tags": []
   },
   "outputs": [],
   "source": [
    "y_pred_25 = y_proba[:, 1] > 0.25\n",
    "print(classification_report(y_test, y_pred_25))"
   ]
  },
  {
   "cell_type": "code",
   "execution_count": null,
   "id": "efd3e069-66ca-44c7-aa3f-69843e824844",
   "metadata": {
    "tags": []
   },
   "outputs": [],
   "source": [
    "y_pred_75 = y_proba[:, 1] > 0.75\n",
    "print(classification_report(y_test, y_pred_75))"
   ]
  },
  {
   "attachments": {},
   "cell_type": "markdown",
   "id": "22ff24bd-8a72-49d2-a705-4fa38b1872a4",
   "metadata": {},
   "source": [
    "## Plotting for different thresholds"
   ]
  },
  {
   "cell_type": "code",
   "execution_count": null,
   "id": "40e124ef-86f2-4a00-9c34-d71f32cd5f74",
   "metadata": {
    "tags": []
   },
   "outputs": [],
   "source": [
    "from sklearn.metrics import PrecisionRecallDisplay\n",
    "PrecisionRecallDisplay.from_estimator(\n",
    "    log_reg,\n",
    "    X_test,\n",
    "    y_test,\n",
    "    name=\"LogisticRegression\"\n",
    ");"
   ]
  },
  {
   "cell_type": "code",
   "execution_count": null,
   "id": "8fcadf0f-7fb3-4e13-9b59-0cb8f9dae955",
   "metadata": {
    "tags": []
   },
   "outputs": [],
   "source": [
    "from sklearn.metrics import RocCurveDisplay\n",
    "RocCurveDisplay.from_estimator(\n",
    "    log_reg,\n",
    "    X_test,\n",
    "    y_test,\n",
    "    name=\"LogisticRegression\"\n",
    ");"
   ]
  },
  {
   "attachments": {},
   "cell_type": "markdown",
   "id": "b97b841e-675e-4fc5-9366-13a7761f00d0",
   "metadata": {},
   "source": [
    "### Use ax to plot both curves next to each other"
   ]
  },
  {
   "cell_type": "code",
   "execution_count": null,
   "id": "78435e6a-222d-40ef-aa67-5f73a6c655c8",
   "metadata": {
    "tags": []
   },
   "outputs": [],
   "source": [
    "import matplotlib.pyplot as plt"
   ]
  },
  {
   "cell_type": "code",
   "execution_count": null,
   "id": "4e5a40f3-746e-4f63-a950-90aa092a52b4",
   "metadata": {
    "tags": []
   },
   "outputs": [],
   "source": [
    "fig, (ax1, ax2) = plt.subplots(1, 2, figsize=(10, 4))\n",
    "RocCurveDisplay.from_estimator(log_reg, X_test, y_test, name=\"LogisticRegression\", ax=ax1)\n",
    "PrecisionRecallDisplay.from_estimator(log_reg, X_test, y_test, name=\"LogisticRegression\", ax=ax2);"
   ]
  },
  {
   "cell_type": "code",
   "execution_count": null,
   "id": "d6a6e11f-2216-4f63-ab30-b1af86358121",
   "metadata": {
    "tags": []
   },
   "outputs": [],
   "source": [
    "from sklearn.ensemble import RandomForestClassifier\n",
    "\n",
    "rf = RandomForestClassifier(random_state=42)\n",
    "rf.fit(X_train, y_train)"
   ]
  },
  {
   "cell_type": "code",
   "execution_count": null,
   "id": "9a94748b-55f8-4fe7-8b15-1cb38368adbc",
   "metadata": {
    "tags": []
   },
   "outputs": [],
   "source": [
    "fig, ax = plt.subplots(figsize=(6, 4))\n",
    "PrecisionRecallDisplay.from_estimator(log_reg, X_test, y_test, ax=ax, name=\"Logistic Regression\")\n",
    "PrecisionRecallDisplay.from_estimator(rf, X_test, y_test, ax=ax, name=\"Random Forest\");"
   ]
  },
  {
   "attachments": {},
   "cell_type": "markdown",
   "id": "8121d388-e279-4a21-85fb-7795522741d6",
   "metadata": {
    "tags": []
   },
   "source": [
    "## Exercise 2\n",
    "\n",
    "1. Plot the roc curve of the logistic regression model and the random forest model on the same axes.\n",
    "2. Train a `sklearn.dummy.DummyClassifier()` on the training dataset and plot the precision recall curve and the roc curve with the test dataset.\n",
    "    - **Hint**: Plot on seperate axes `fig, (ax1, ax2) = plt.subplots(1, 2, figsize=(10, 4))`\n",
    "3. What is the ROC AUC and the average precision for the dummy classifer?"
   ]
  },
  {
   "cell_type": "code",
   "execution_count": null,
   "id": "db5fd344-bc7c-4dd1-a937-8956899c67a9",
   "metadata": {
    "tags": []
   },
   "outputs": [],
   "source": [
    "from sklearn.dummy import DummyClassifier\n",
    "import numpy as np"
   ]
  },
  {
   "cell_type": "code",
   "execution_count": null,
   "id": "c5a10b4c-c053-420d-a1cb-49aec8e6545f",
   "metadata": {},
   "outputs": [],
   "source": []
  },
  {
   "attachments": {},
   "cell_type": "markdown",
   "id": "ad4c57de-47dd-4670-97e3-1ffaef5a870c",
   "metadata": {},
   "source": [
    "**If you are running locally**, you can uncomment the following cell to load the solution into the cell. On **Google Colab**, [see solution here](https://github.com/thomasjpfan/ml-workshop-intermediate-v2/blob/main/notebooks/solutions/04-ex01-solutions.py). "
   ]
  },
  {
   "cell_type": "code",
   "execution_count": null,
   "id": "04d46524-6982-4dff-8811-032df2912781",
   "metadata": {
    "tags": []
   },
   "outputs": [],
   "source": [
    "# %load solutions/04-ex02-solutions.py"
   ]
  },
  {
   "attachments": {},
   "cell_type": "markdown",
   "id": "a4fe23f2-265d-4df2-b1e7-9048a4073983",
   "metadata": {},
   "source": [
    "## Different metrics\n",
    "There are many metrics in scikit-lean that can be found\n",
    "in the [documentation](https://scikit-learn.org/stable/modules/model_evaluation.html#metrics-and-scoring-quantifying-the-quality-of-predictions)"
   ]
  },
  {
   "attachments": {},
   "cell_type": "markdown",
   "id": "a8b13b4d-9655-4398-9b85-ac27dc902f95",
   "metadata": {},
   "source": [
    "### Metrics that require classes"
   ]
  },
  {
   "cell_type": "code",
   "execution_count": null,
   "id": "89b37752-a245-4260-824c-22fd3beab1da",
   "metadata": {
    "tags": []
   },
   "outputs": [],
   "source": [
    "from sklearn.metrics import f1_score"
   ]
  },
  {
   "cell_type": "code",
   "execution_count": null,
   "id": "9d58065e-c034-4879-a54e-3cc2a1b7dd38",
   "metadata": {
    "tags": []
   },
   "outputs": [],
   "source": [
    "y_pred_log_reg = log_reg.predict(X_test)"
   ]
  },
  {
   "cell_type": "code",
   "execution_count": null,
   "id": "03c9b12a-0899-444b-9618-343084de05f2",
   "metadata": {
    "tags": []
   },
   "outputs": [],
   "source": [
    "y_pred_log_reg"
   ]
  },
  {
   "cell_type": "code",
   "execution_count": null,
   "id": "9125e674-f325-4ee7-8acf-51177126fb08",
   "metadata": {
    "tags": []
   },
   "outputs": [],
   "source": [
    "f1_score(y_test, y_pred_log_reg)"
   ]
  },
  {
   "attachments": {},
   "cell_type": "markdown",
   "id": "808afae9-140f-4ad4-9b88-bfb104beacbc",
   "metadata": {},
   "source": [
    "### Metrics that require ranking"
   ]
  },
  {
   "cell_type": "code",
   "execution_count": null,
   "id": "becc6376-6b4b-4426-a73c-ca0312221b4f",
   "metadata": {
    "tags": []
   },
   "outputs": [],
   "source": [
    "y_decision_log_reg = log_reg.decision_function(X_test)"
   ]
  },
  {
   "cell_type": "code",
   "execution_count": null,
   "id": "8c60f5e5-87b1-49ba-9892-902bde898a94",
   "metadata": {
    "tags": []
   },
   "outputs": [],
   "source": [
    "y_decision_log_reg"
   ]
  },
  {
   "attachments": {},
   "cell_type": "markdown",
   "id": "b9161da8-c27a-4518-91b3-97ec2466b0ab",
   "metadata": {},
   "source": [
    "Aything above 0 is considered class 1:"
   ]
  },
  {
   "cell_type": "code",
   "execution_count": null,
   "id": "6930ce02-0f89-43ce-a6fa-903a89d1730a",
   "metadata": {
    "tags": []
   },
   "outputs": [],
   "source": [
    "np.all((y_decision_log_reg > 0) ==  y_pred_log_reg)"
   ]
  },
  {
   "cell_type": "code",
   "execution_count": null,
   "id": "88c0a3d3-3329-4226-862f-a0cb8480b178",
   "metadata": {
    "tags": []
   },
   "outputs": [],
   "source": [
    "y_proba_log_reg = log_reg.predict_proba(X_test)"
   ]
  },
  {
   "cell_type": "code",
   "execution_count": null,
   "id": "c9709b76-eeb5-4beb-bc2e-df6e95abe095",
   "metadata": {
    "tags": []
   },
   "outputs": [],
   "source": [
    "y_proba_log_reg"
   ]
  },
  {
   "attachments": {},
   "cell_type": "markdown",
   "id": "be8e6c56-d9d5-4f00-ae9d-9322a132adcb",
   "metadata": {},
   "source": [
    "#### Aside: Computing the `predict_proba` from the decision function"
   ]
  },
  {
   "cell_type": "code",
   "execution_count": null,
   "id": "5a39158b-a9ef-40ce-87c4-3df187bba251",
   "metadata": {
    "tags": []
   },
   "outputs": [],
   "source": [
    "from scipy.special import expit"
   ]
  },
  {
   "cell_type": "code",
   "execution_count": null,
   "id": "bbaedfea-42d6-4934-b932-6d8b010e078f",
   "metadata": {
    "tags": []
   },
   "outputs": [],
   "source": [
    "expit(y_decision_log_reg)"
   ]
  },
  {
   "cell_type": "code",
   "execution_count": null,
   "id": "bf886739-d682-4da1-ade0-9f8867905c01",
   "metadata": {
    "tags": []
   },
   "outputs": [],
   "source": [
    "y_proba_log_reg[:, 1]"
   ]
  },
  {
   "attachments": {},
   "cell_type": "markdown",
   "id": "fad05709-885d-4989-93b1-24364c867fcd",
   "metadata": {},
   "source": [
    "### Ranking metrics"
   ]
  },
  {
   "cell_type": "code",
   "execution_count": null,
   "id": "2eb86df9-206a-4c6f-ba88-894a880a8927",
   "metadata": {
    "tags": []
   },
   "outputs": [],
   "source": [
    "from sklearn.metrics import average_precision_score"
   ]
  },
  {
   "attachments": {},
   "cell_type": "markdown",
   "id": "b67edf68-42a4-46b0-9864-59fc3877ddec",
   "metadata": {},
   "source": [
    "#### Using the decision function to compute the average precision"
   ]
  },
  {
   "cell_type": "code",
   "execution_count": null,
   "id": "15479650-50f4-4ffd-a269-fd6455fecdb7",
   "metadata": {
    "tags": []
   },
   "outputs": [],
   "source": [
    "average_precision_score(y_test, y_decision_log_reg)"
   ]
  },
  {
   "attachments": {},
   "cell_type": "markdown",
   "id": "7373659b-82c3-4acc-87cf-e2d1da44caa8",
   "metadata": {
    "tags": []
   },
   "source": [
    "#### Using predict_proba to compute the average precision"
   ]
  },
  {
   "cell_type": "code",
   "execution_count": null,
   "id": "ff43ac3d-6573-48c2-a276-bf3cb1451bfe",
   "metadata": {
    "tags": []
   },
   "outputs": [],
   "source": [
    "average_precision_score(y_test, y_proba_log_reg[:, 1])"
   ]
  },
  {
   "attachments": {},
   "cell_type": "markdown",
   "id": "0fcd0c4f-7533-4a5e-a044-95b04cbc34b9",
   "metadata": {},
   "source": [
    "## Exercise 3\n",
    "\n",
    "1. Compute the `roc_auc_score` for the random forest on the test set.\n",
    "    **Hint**: Use `predict_proba`.\n",
    "2. Train a `sklearn.svm.SVC` model on the training dataset with `random_state=0`\n",
    "3. Compute the average precision on the test set.\n",
    "    - **Hint**: Use `decision_function`."
   ]
  },
  {
   "cell_type": "code",
   "execution_count": null,
   "id": "06c0d790-938f-424d-8e16-1e6b92f787cf",
   "metadata": {
    "tags": []
   },
   "outputs": [],
   "source": [
    "from sklearn.metrics import roc_auc_score\n",
    "from sklearn.metrics import average_precision_score\n",
    "from sklearn.svm import SVC"
   ]
  },
  {
   "cell_type": "code",
   "execution_count": null,
   "id": "d7b5a9ac-7434-4487-bd45-5440fa1f93d9",
   "metadata": {},
   "outputs": [],
   "source": []
  },
  {
   "attachments": {},
   "cell_type": "markdown",
   "id": "7b6b5b13-0568-436d-b3ce-e4813d7c8159",
   "metadata": {},
   "source": [
    "**If you are running locally**, you can uncomment the following cell to load the solution into the cell. On **Google Colab**, [see solution here](https://github.com/thomasjpfan/ml-workshop-intermediate-v2/blob/main/notebooks/solutions/04-ex03-solutions.py). "
   ]
  },
  {
   "cell_type": "code",
   "execution_count": null,
   "id": "679f2027-99a4-4c14-9772-524ebf303376",
   "metadata": {
    "tags": []
   },
   "outputs": [],
   "source": [
    "# %load solutions/04-ex03-solutions.py"
   ]
  },
  {
   "attachments": {},
   "cell_type": "markdown",
   "id": "e16eee6f-f5db-48de-bd87-9efcbf30afa3",
   "metadata": {},
   "source": [
    "## Scoring Interface"
   ]
  },
  {
   "attachments": {},
   "cell_type": "markdown",
   "id": "a97f6a56-a6a2-440b-b8e3-1837d685f3aa",
   "metadata": {},
   "source": [
    "## Parameter Search with different metrics"
   ]
  },
  {
   "attachments": {},
   "cell_type": "markdown",
   "id": "a1526ed7-31fe-47d6-a817-d59fa2d30142",
   "metadata": {},
   "source": [
    "### Using a string\n",
    "Listed in [documentation](https://scikit-learn.org/stable/modules/model_evaluation.html#common-cases-predefined-values)"
   ]
  },
  {
   "cell_type": "code",
   "execution_count": null,
   "id": "bdc15bb8-761c-4828-be75-ee4b775b249a",
   "metadata": {
    "tags": []
   },
   "outputs": [],
   "source": [
    "from sklearn.model_selection import GridSearchCV"
   ]
  },
  {
   "cell_type": "code",
   "execution_count": null,
   "id": "eb9f447d-a369-4ed7-be0f-44e34bb76535",
   "metadata": {
    "tags": []
   },
   "outputs": [],
   "source": [
    "search = GridSearchCV(\n",
    "    RandomForestClassifier(random_state=0), \n",
    "    param_grid={\n",
    "        \"max_features\": [4, 5]\n",
    "    },\n",
    "    scoring=\"average_precision\",\n",
    "    n_jobs=2\n",
    ")"
   ]
  },
  {
   "cell_type": "code",
   "execution_count": null,
   "id": "ac6fdef2-b60b-4a1a-b30f-073522069226",
   "metadata": {
    "tags": []
   },
   "outputs": [],
   "source": [
    "search.fit(X_train, y_train)"
   ]
  },
  {
   "cell_type": "code",
   "execution_count": null,
   "id": "a924630e-9335-4891-9caf-bb80025cb057",
   "metadata": {
    "tags": []
   },
   "outputs": [],
   "source": [
    "search.best_score_"
   ]
  },
  {
   "attachments": {},
   "cell_type": "markdown",
   "id": "2322af45-2df9-4e9c-9a1d-6805c5d6553e",
   "metadata": {},
   "source": [
    "## Scoring interface"
   ]
  },
  {
   "cell_type": "code",
   "execution_count": null,
   "id": "3a7ff750-b90f-4a35-beba-2c43e4ea6de8",
   "metadata": {
    "tags": []
   },
   "outputs": [],
   "source": [
    "from sklearn.metrics import make_scorer\n",
    "from sklearn.metrics import fbeta_score"
   ]
  },
  {
   "cell_type": "code",
   "execution_count": null,
   "id": "5956e23a-4951-43a9-955a-efe7e9ae72b3",
   "metadata": {
    "tags": []
   },
   "outputs": [],
   "source": [
    "f2_scorer = make_scorer(fbeta_score, beta=2)"
   ]
  },
  {
   "cell_type": "code",
   "execution_count": null,
   "id": "041a2cc6-62d4-4063-813e-65fb98f0f21a",
   "metadata": {
    "tags": []
   },
   "outputs": [],
   "source": [
    "f2_scorer(log_reg, X_test, y_test)"
   ]
  },
  {
   "cell_type": "code",
   "execution_count": null,
   "id": "e6afe7d0-a790-4a3b-89e5-88c88b403cc9",
   "metadata": {
    "tags": []
   },
   "outputs": [],
   "source": [
    "f2_scorer(rf, X_test, y_test)"
   ]
  },
  {
   "attachments": {},
   "cell_type": "markdown",
   "id": "cf84f4cf-365c-4cb2-83a7-b50ffe8450ae",
   "metadata": {},
   "source": [
    "### Custom parameters in parameter searching"
   ]
  },
  {
   "cell_type": "code",
   "execution_count": null,
   "id": "a26d6a44-a23b-496f-9516-f4730ea2a98d",
   "metadata": {
    "tags": []
   },
   "outputs": [],
   "source": [
    "search = GridSearchCV(\n",
    "    RandomForestClassifier(random_state=0), \n",
    "    param_grid={\n",
    "        \"max_features\": [4, 5]\n",
    "    },\n",
    "    scoring=f2_scorer,\n",
    "    n_jobs=2\n",
    ")"
   ]
  },
  {
   "cell_type": "code",
   "execution_count": null,
   "id": "7336dc16-b2fc-457b-91d8-34eb132b9e3a",
   "metadata": {
    "tags": []
   },
   "outputs": [],
   "source": [
    "search.fit(X_train, y_train)"
   ]
  },
  {
   "cell_type": "code",
   "execution_count": null,
   "id": "40f650f5-01b5-41d3-afbe-959baa0453c2",
   "metadata": {
    "tags": []
   },
   "outputs": [],
   "source": [
    "search.best_score_"
   ]
  },
  {
   "attachments": {},
   "cell_type": "markdown",
   "id": "a59d0ac2",
   "metadata": {},
   "source": [
    "**Back to slides!**"
   ]
  },
  {
   "attachments": {},
   "cell_type": "markdown",
   "id": "8a1413b3-0d5b-4381-b925-551155605434",
   "metadata": {},
   "source": [
    "## Inspection "
   ]
  },
  {
   "attachments": {},
   "cell_type": "markdown",
   "id": "4f7d266f-6b9d-4796-92bf-1d90eb233972",
   "metadata": {},
   "source": [
    "### Loading housing dataset"
   ]
  },
  {
   "cell_type": "code",
   "execution_count": null,
   "id": "56bcec9d-b2fd-4a3b-8c0b-239cd4d981c9",
   "metadata": {
    "tags": []
   },
   "outputs": [],
   "source": [
    "from sklearn.datasets import fetch_california_housing\n",
    "\n",
    "california = fetch_california_housing(as_frame=True)\n",
    "X, y = california.data, california.target\n",
    "\n",
    "X.head()"
   ]
  },
  {
   "cell_type": "code",
   "execution_count": null,
   "id": "7cc98941-f41f-4530-b245-6a2e47996d68",
   "metadata": {
    "tags": []
   },
   "outputs": [],
   "source": [
    "y.head()"
   ]
  },
  {
   "cell_type": "code",
   "execution_count": null,
   "id": "7ad6685d-c508-401f-9451-0af62dbacbc0",
   "metadata": {
    "tags": []
   },
   "outputs": [],
   "source": [
    "from sklearn.model_selection import train_test_split\n",
    "\n",
    "X_train, X_test, y_train, y_test = train_test_split(X, y, random_state=42)"
   ]
  },
  {
   "cell_type": "code",
   "execution_count": null,
   "id": "30692bd8-917f-45bd-a545-0a92221d48ca",
   "metadata": {
    "tags": []
   },
   "outputs": [],
   "source": [
    "feature_names = X.columns"
   ]
  },
  {
   "cell_type": "code",
   "execution_count": null,
   "id": "13c2742d-e784-489b-a854-c36902018d2d",
   "metadata": {
    "tags": []
   },
   "outputs": [],
   "source": [
    "from sklearn.ensemble import RandomForestRegressor\n",
    "\n",
    "rf = RandomForestRegressor(random_state=42)\n",
    "rf.fit(X_train, y_train)"
   ]
  },
  {
   "cell_type": "code",
   "execution_count": null,
   "id": "48f2b9f9-576f-4eb0-98de-4f1fd17b41d8",
   "metadata": {
    "tags": []
   },
   "outputs": [],
   "source": [
    "rf.score(X_test, y_test)"
   ]
  },
  {
   "attachments": {},
   "cell_type": "markdown",
   "id": "62e98de4-91f8-40ca-a437-5a90d9977822",
   "metadata": {},
   "source": [
    "### Permutation Importance"
   ]
  },
  {
   "cell_type": "code",
   "execution_count": null,
   "id": "2fb0a786-34ce-4854-98b9-4416212b559c",
   "metadata": {
    "tags": []
   },
   "outputs": [],
   "source": [
    "from sklearn.inspection import permutation_importance\n",
    "\n",
    "rf_perm_results = permutation_importance(\n",
    "    rf,\n",
    "    X_test,\n",
    "    y_test,\n",
    "    n_repeats=5,\n",
    "    random_state=0,\n",
    ")"
   ]
  },
  {
   "cell_type": "code",
   "execution_count": null,
   "id": "81d81d4f-7fc1-4cde-843c-b334a8396144",
   "metadata": {
    "tags": []
   },
   "outputs": [],
   "source": [
    "rf_perm_results"
   ]
  },
  {
   "cell_type": "code",
   "execution_count": null,
   "id": "aa5ab57a-b873-4d06-a60b-21df9665b431",
   "metadata": {
    "tags": []
   },
   "outputs": [],
   "source": [
    "def plot_permutation_importance(perm_results, names, top_k=None, ax=None):\n",
    "    perm_sorted_idx = perm_results.importances_mean.argsort()\n",
    "    if top_k:\n",
    "        perm_sorted_idx = perm_sorted_idx[-top_k:]\n",
    "        \n",
    "    if ax is None:\n",
    "        fig, ax = plt.subplots()\n",
    "    _ = ax.boxplot(perm_results.importances[perm_sorted_idx].T, vert=False,\n",
    "                   labels=np.array(names)[perm_sorted_idx])\n",
    "    return ax"
   ]
  },
  {
   "cell_type": "code",
   "execution_count": null,
   "id": "589fb231-f162-4eaa-b922-6bc36ff269e5",
   "metadata": {
    "tags": []
   },
   "outputs": [],
   "source": [
    "plot_permutation_importance(rf_perm_results, feature_names);"
   ]
  },
  {
   "attachments": {},
   "cell_type": "markdown",
   "id": "3746271f-b2dc-4df9-b7e1-b60a55202b50",
   "metadata": {},
   "source": [
    "Programmically getting the top 4 features:"
   ]
  },
  {
   "cell_type": "code",
   "execution_count": null,
   "id": "6cc074e5-c075-4492-b704-cff42c0daae0",
   "metadata": {
    "tags": []
   },
   "outputs": [],
   "source": [
    "top_features_idx = np.argsort(rf_perm_results[\"importances_mean\"])[::-1]\n",
    "top_features_idx"
   ]
  },
  {
   "cell_type": "code",
   "execution_count": null,
   "id": "47fd381d-513b-4ff2-ba3a-db0c27df43d6",
   "metadata": {
    "tags": []
   },
   "outputs": [],
   "source": [
    "top_4_features_idx = top_features_idx[:4]\n",
    "top_4_features = feature_names[top_4_features_idx]"
   ]
  },
  {
   "cell_type": "code",
   "execution_count": null,
   "id": "b8e545ad-6d23-464b-8d49-f5505d9c909c",
   "metadata": {
    "tags": []
   },
   "outputs": [],
   "source": [
    "top_4_features"
   ]
  },
  {
   "attachments": {},
   "cell_type": "markdown",
   "id": "877942a9-a1a8-4355-ac9e-3f196fab2e84",
   "metadata": {},
   "source": [
    "## Exercise 4\n",
    "\n",
    "1. Create and train a `HistGradientBoostingRegressor` model.\n",
    "1. Evaluate the model on the test set using `score`.\n",
    "1. Plot the permutation importance for the gradient boosting model with `n_repeats=5` and `random_state=0`.\n",
    "1. How does the permtuation feature imporatance compare to random forest?"
   ]
  },
  {
   "cell_type": "code",
   "execution_count": null,
   "id": "c86995d9-f26c-47c5-be15-4fc8a97fde66",
   "metadata": {
    "tags": []
   },
   "outputs": [],
   "source": [
    "from sklearn.ensemble import HistGradientBoostingRegressor"
   ]
  },
  {
   "cell_type": "code",
   "execution_count": null,
   "id": "4a1f1e7d-674b-4ba6-9e5f-24a287562912",
   "metadata": {},
   "outputs": [],
   "source": []
  },
  {
   "attachments": {},
   "cell_type": "markdown",
   "id": "dadcfb38-71dd-409a-8650-06a0c1765682",
   "metadata": {},
   "source": [
    "**If you are running locally**, you can uncomment the following cell to load the solution into the cell. On **Google Colab**, [see solution here](https://github.com/thomasjpfan/ml-workshop-intermediate-v2/blob/main/notebooks/solutions/04-ex04-solutions.py). "
   ]
  },
  {
   "cell_type": "code",
   "execution_count": null,
   "id": "6f654f69-86ae-4420-8737-785720198c67",
   "metadata": {
    "tags": []
   },
   "outputs": [],
   "source": [
    "# %load solutions/04-ex04-solutions.py"
   ]
  },
  {
   "attachments": {},
   "cell_type": "markdown",
   "id": "c5f8bf2c",
   "metadata": {},
   "source": [
    "**Back to slides!**"
   ]
  },
  {
   "attachments": {},
   "cell_type": "markdown",
   "id": "3162e904-8f53-4e00-ac0e-a6ced57dbe41",
   "metadata": {
    "tags": []
   },
   "source": [
    "## Partial Dependence"
   ]
  },
  {
   "cell_type": "code",
   "execution_count": null,
   "id": "3a02a768-5a31-4375-935e-68ae44e969a7",
   "metadata": {
    "tags": []
   },
   "outputs": [],
   "source": [
    "hist = HistGradientBoostingRegressor(random_state=0)\n",
    "\n",
    "hist.fit(X_train, y_train)"
   ]
  },
  {
   "cell_type": "code",
   "execution_count": null,
   "id": "36de62a3-81f4-4291-8059-82128714a940",
   "metadata": {
    "tags": []
   },
   "outputs": [],
   "source": [
    "features = [\"Latitude\", \"MedInc\", \"AveBedrms\", \"Population\"]"
   ]
  },
  {
   "cell_type": "code",
   "execution_count": null,
   "id": "45b94791-172d-4937-b64e-25e4350ef5ad",
   "metadata": {
    "tags": []
   },
   "outputs": [],
   "source": [
    "from sklearn.inspection import PartialDependenceDisplay\n",
    "PartialDependenceDisplay.from_estimator(hist, X_test, features=features, n_cols=2);"
   ]
  },
  {
   "attachments": {},
   "cell_type": "markdown",
   "id": "553013c6-ec5e-480e-9b4c-13310e07a8f0",
   "metadata": {},
   "source": [
    "## Housing dataset"
   ]
  },
  {
   "cell_type": "code",
   "execution_count": null,
   "id": "60ec3d06-56bf-4fc1-85a3-928160384580",
   "metadata": {
    "tags": []
   },
   "outputs": [],
   "source": [
    "from sklearn.datasets import fetch_openml\n",
    "\n",
    "ames_housing = fetch_openml(data_id=43926, as_frame=True, parser=\"pandas\")\n",
    "X, y = ames_housing.data, ames_housing.target"
   ]
  },
  {
   "cell_type": "code",
   "execution_count": null,
   "id": "b64daa0c-ea95-4bdb-8d6f-ee57ff959dad",
   "metadata": {
    "tags": []
   },
   "outputs": [],
   "source": [
    "X.head()"
   ]
  },
  {
   "cell_type": "code",
   "execution_count": null,
   "id": "2b6e0b59-1aca-49a5-a566-6a62044e8121",
   "metadata": {
    "tags": []
   },
   "outputs": [],
   "source": [
    "X.dtypes"
   ]
  },
  {
   "cell_type": "code",
   "execution_count": null,
   "id": "56fc3b06-4d05-4c3e-b8f4-41341accfe29",
   "metadata": {
    "tags": []
   },
   "outputs": [],
   "source": [
    "feature_names = X.columns"
   ]
  },
  {
   "cell_type": "code",
   "execution_count": null,
   "id": "c2b6f85c-78ec-46ab-96bd-f1f44c99f543",
   "metadata": {
    "tags": []
   },
   "outputs": [],
   "source": [
    "from sklearn.compose import make_column_selector\n",
    "from sklearn.preprocessing import OrdinalEncoder\n",
    "from sklearn.compose import ColumnTransformer"
   ]
  },
  {
   "cell_type": "code",
   "execution_count": null,
   "id": "ddab7b22-6e18-4857-97f3-331946a5fdf5",
   "metadata": {
    "tags": []
   },
   "outputs": [],
   "source": [
    "X_train, X_test, y_train, y_test = train_test_split(\n",
    "    X, y, random_state=0\n",
    ")"
   ]
  },
  {
   "cell_type": "code",
   "execution_count": null,
   "id": "92c4f06e-b3cd-4ce4-9547-beb14ff42e9f",
   "metadata": {
    "tags": []
   },
   "outputs": [],
   "source": [
    "ct = ColumnTransformer([\n",
    "    (\n",
    "        \"numerical\",\n",
    "        \"passthrough\",\n",
    "        make_column_selector(dtype_include=\"number\")\n",
    "    ),\n",
    "    (\n",
    "        \"category\",\n",
    "         OrdinalEncoder(handle_unknown=\"use_encoded_value\", unknown_value=-1),\n",
    "         make_column_selector(dtype_include=\"number\")\n",
    "    ),\n",
    "])"
   ]
  },
  {
   "cell_type": "code",
   "execution_count": null,
   "id": "4ac96741-4c0a-4684-84cf-d2ab9ffa842b",
   "metadata": {
    "tags": []
   },
   "outputs": [],
   "source": [
    "hist = make_pipeline(\n",
    "    ct,\n",
    "    HistGradientBoostingRegressor(random_state=0)\n",
    ")\n",
    "hist.fit(X_train, y_train)"
   ]
  },
  {
   "cell_type": "code",
   "execution_count": null,
   "id": "e4373357-0f30-4888-bfdf-f8d5b0d1f73d",
   "metadata": {
    "tags": []
   },
   "outputs": [],
   "source": [
    "hist.score(X_test, y_test)"
   ]
  },
  {
   "attachments": {},
   "cell_type": "markdown",
   "id": "2c069c22-5ee7-405e-bf54-949e0deb56c9",
   "metadata": {},
   "source": [
    "## Exercise 5\n",
    "\n",
    "1. Get the permutation importance of the gradient booster (`hist`) using `permutation_importance` and `scoring=\"neg_mean_absolute_error\"`.\n",
    "    - Store the permutation importance in `hist_perm_results` variable.\n",
    "    - **Hint**: Use `n_repeats=5` and `random_state=0`.\n",
    "2. Plot the permutation importance of `hist` by using `plot_permutation_importance` and `top_k=10`.\n",
    "3. Extract the top 4 features according to permutation importance into a variable `top_4_features`.\n",
    "    - **Hint**: Use [np.argsort](https://numpy.org/doc/stable/reference/generated/numpy.argsort.html) on `hist_perm_results[\"importance_mean\"]` and slice the array to get the top 4 features.\n",
    "4. Use `PartialDependenceDisplay.from_estimator` to plot the partial dependence of the `top_4_features`."
   ]
  },
  {
   "cell_type": "code",
   "execution_count": null,
   "id": "58ec72ff-6c7d-403e-bea5-4da06114aa8b",
   "metadata": {},
   "outputs": [],
   "source": [
    "import numpy as np"
   ]
  },
  {
   "cell_type": "code",
   "execution_count": null,
   "id": "a6e7641e-bdb8-45ab-b155-5992f0f57bd6",
   "metadata": {},
   "outputs": [],
   "source": []
  },
  {
   "attachments": {},
   "cell_type": "markdown",
   "id": "162bf279-6e00-47a9-b9cf-41deacd2c17b",
   "metadata": {},
   "source": [
    "**If you are running locally**, you can uncomment the following cell to load the solution into the cell. On **Google Colab**, [see solution here](https://github.com/thomasjpfan/ml-workshop-intermediate-v2/blob/main/notebooks/solutions/04-ex05-solutions.py). "
   ]
  },
  {
   "cell_type": "code",
   "execution_count": null,
   "id": "611955b1",
   "metadata": {
    "tags": []
   },
   "outputs": [],
   "source": [
    "# %load solutions/04-ex05-solutions.py"
   ]
  }
 ],
 "metadata": {
  "kernelspec": {
   "display_name": "Python 3 (ipykernel)",
   "language": "python",
   "name": "python3"
  },
  "language_info": {
   "codemirror_mode": {
    "name": "ipython",
    "version": 3
   },
   "file_extension": ".py",
   "mimetype": "text/x-python",
   "name": "python",
   "nbconvert_exporter": "python",
   "pygments_lexer": "ipython3",
   "version": "3.10.10"
  }
 },
 "nbformat": 4,
 "nbformat_minor": 5
}
