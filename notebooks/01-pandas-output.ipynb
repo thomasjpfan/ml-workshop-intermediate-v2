{
 "cells": [
  {
   "cell_type": "markdown",
   "id": "c36ae6e9-6233-4950-a3b1-41fce70fec83",
   "metadata": {
    "tags": []
   },
   "source": [
    "# Pandas output\n",
    "\n",
    "In this notebook, we review the Pandas output API from scikit-learn v1.2.\n",
    "\n",
    "<a href=\"https://colab.research.google.com/github/thomasjpfan/ml-workshop-intermediate-v2/blob/main/notebooks/01-pandas-output.ipynb\"><img src=\"https://colab.research.google.com/assets/colab-badge.svg\" alt=\"Open in Colab\" title=\"Open and Execute in Google Colaboratory\"></a>"
   ]
  },
  {
   "cell_type": "code",
   "execution_count": null,
   "id": "8da08205-bd7a-42ac-b343-2e028b799f5f",
   "metadata": {
    "tags": []
   },
   "outputs": [],
   "source": [
    "# Install dependencies for google colab\n",
    "import sys\n",
    "IN_COLAB = 'google.colab' in sys.modules\n",
    "if IN_COLAB:\n",
    "    %pip install -r https://raw.githubusercontent.com/thomasjpfan/ml-workshop-intermediate-v2/main/requirements.txt"
   ]
  },
  {
   "cell_type": "code",
   "execution_count": null,
   "id": "5d4ca972-cb90-499c-b412-23af1f656b47",
   "metadata": {
    "tags": []
   },
   "outputs": [],
   "source": [
    "import sklearn\n",
    "assert sklearn.__version__.startswith(\"1.2\"), \"Please install scikit-learn 1.2\""
   ]
  },
  {
   "cell_type": "markdown",
   "id": "71c83328-28e9-4842-8c6e-11541e1cecbc",
   "metadata": {},
   "source": [
    "## Loading wine dataset"
   ]
  },
  {
   "cell_type": "code",
   "execution_count": null,
   "id": "b2a2ee49-76c2-4fa9-bd18-a3ecbd4492f9",
   "metadata": {
    "tags": []
   },
   "outputs": [],
   "source": [
    "from sklearn.datasets import load_wine\n",
    "from sklearn.model_selection import train_test_split"
   ]
  },
  {
   "cell_type": "code",
   "execution_count": null,
   "id": "f4226915-e700-4665-a594-6bbfa57aaa78",
   "metadata": {
    "tags": []
   },
   "outputs": [],
   "source": [
    "wine = load_wine(as_frame=True)\n",
    "X, y = wine.data, wine.target"
   ]
  },
  {
   "cell_type": "code",
   "execution_count": null,
   "id": "929ead00-4e2b-4a28-a262-12c9118a1765",
   "metadata": {
    "tags": []
   },
   "outputs": [],
   "source": [
    "y"
   ]
  },
  {
   "cell_type": "code",
   "execution_count": null,
   "id": "2688f168-f83e-4a26-8656-df7836a0295b",
   "metadata": {
    "tags": []
   },
   "outputs": [],
   "source": [
    "X_train, X_test, y_train, y_test = train_test_split(\n",
    "    X, y, stratify=y, random_state=0\n",
    ")"
   ]
  },
  {
   "cell_type": "markdown",
   "id": "445c284d-de65-41c2-bea1-6699b30d3c68",
   "metadata": {},
   "source": [
    "## Default Scaler"
   ]
  },
  {
   "cell_type": "code",
   "execution_count": null,
   "id": "ac7ad9f3-c010-43b4-bc66-b8c9994a30cb",
   "metadata": {
    "tags": []
   },
   "outputs": [],
   "source": [
    "from sklearn.preprocessing import StandardScaler"
   ]
  },
  {
   "cell_type": "code",
   "execution_count": null,
   "id": "a7efa3bf-d339-4776-b570-a36b06a499f6",
   "metadata": {
    "tags": []
   },
   "outputs": [],
   "source": [
    "scaler = StandardScaler()\n",
    "scaler.fit_transform(X_train)"
   ]
  },
  {
   "cell_type": "markdown",
   "id": "df6a7986-1c78-404b-a099-63c050aef6b5",
   "metadata": {},
   "source": [
    "## Scaler with Pandas output"
   ]
  },
  {
   "cell_type": "code",
   "execution_count": null,
   "id": "9a67694a-8fc3-45f8-bfbf-9eaa3679edee",
   "metadata": {
    "tags": []
   },
   "outputs": [],
   "source": [
    "scaler.set_output(transform=\"pandas\")\n",
    "scaler.fit_transform(X_train)"
   ]
  },
  {
   "cell_type": "markdown",
   "id": "a2371b6d-9321-4be8-8978-0f6b75898d46",
   "metadata": {},
   "source": [
    "## In a ML Pipeline"
   ]
  },
  {
   "cell_type": "code",
   "execution_count": null,
   "id": "101570ea-6336-4f0d-96e0-37edc5aad6ee",
   "metadata": {
    "tags": []
   },
   "outputs": [],
   "source": [
    "from sklearn.linear_model import LogisticRegression\n",
    "from sklearn.feature_selection import SelectPercentile\n",
    "from sklearn.pipeline import make_pipeline"
   ]
  },
  {
   "cell_type": "code",
   "execution_count": null,
   "id": "423b68ac-a128-4067-9187-2f96e9e004c9",
   "metadata": {
    "tags": []
   },
   "outputs": [],
   "source": [
    "log_reg = make_pipeline(\n",
    "    StandardScaler(),\n",
    "    SelectPercentile(percentile=50),\n",
    "    LogisticRegression()\n",
    ")"
   ]
  },
  {
   "cell_type": "code",
   "execution_count": null,
   "id": "23f8e17e-e83e-4a19-a375-3892ac9308a5",
   "metadata": {
    "tags": []
   },
   "outputs": [],
   "source": [
    "log_reg.set_output(transform=\"pandas\")\n",
    "log_reg.fit(X_train, y_train)"
   ]
  },
  {
   "cell_type": "code",
   "execution_count": null,
   "id": "35f41e2a-e376-4bb7-86e4-27ffd868b390",
   "metadata": {
    "tags": []
   },
   "outputs": [],
   "source": [
    "log_reg[-1]"
   ]
  },
  {
   "cell_type": "code",
   "execution_count": null,
   "id": "465c99f1-ce78-4f27-8cbf-766a51144dfc",
   "metadata": {
    "tags": []
   },
   "outputs": [],
   "source": [
    "log_reg[-1].feature_names_in_"
   ]
  },
  {
   "cell_type": "markdown",
   "id": "f9029cba-72a7-4529-b3e7-4e5b17140395",
   "metadata": {},
   "source": [
    "## Exercise 1\n",
    "\n",
    "1. The Wisconsion cancer data set is loaded into `X` and `y`. Split the data set into a training and test set.\n",
    "    - **Hint**: Remember to use `stratify=y`.\n",
    "2. Which feature(s) or the dataset are missing?\n",
    "    - **Hint**: Use panda's `isna().sum()`\n",
    "3. Use a `SimpleImputer` with `add_indicator=True` and `set_output(transform=\"pandas\")` and run `fit_transform` on the training set. What is the shape of the transformed data?"
   ]
  },
  {
   "cell_type": "code",
   "execution_count": null,
   "id": "41d2bfa3-9489-4baa-aff2-35679b80effd",
   "metadata": {
    "tags": []
   },
   "outputs": [],
   "source": [
    "from sklearn.datasets import fetch_openml\n",
    "from sklearn.impute import SimpleImputer\n",
    "\n",
    "cancer = fetch_openml(data_id=15, as_frame=True, parser=\"pandas\")\n",
    "X, y = cancer.data, cancer.target"
   ]
  },
  {
   "cell_type": "code",
   "execution_count": null,
   "id": "2bb6c354-5f2f-4f53-acbf-63d744dd213a",
   "metadata": {},
   "outputs": [],
   "source": []
  },
  {
   "cell_type": "markdown",
   "id": "6c230761-73df-4f48-a7fa-b1b5a9c832c2",
   "metadata": {},
   "source": [
    "**If you are running locally**, you can uncomment the following cell to load the solution into the cell. On **Google Colab**, [see solution here](https://github.com/thomasjpfan/ml-workshop-intermediate-v2/blob/main/notebooks/solutions/01-ex01-solutions.py). "
   ]
  },
  {
   "cell_type": "code",
   "execution_count": null,
   "id": "f7d56a95-5b13-438e-81b0-bdf444e6ef51",
   "metadata": {
    "tags": []
   },
   "outputs": [],
   "source": [
    "# %load solutions/01-ex01-solutions.py"
   ]
  },
  {
   "cell_type": "markdown",
   "id": "3250d55a-da27-4dc5-a1cb-97e6b626fdaa",
   "metadata": {},
   "source": [
    "## Exercise 2\n",
    "\n",
    "1. Build a pipeline with the `StandardScaler`, `KNNImputer(add_indicator=True)`, and `LogisticRegression` and configured for pandas output.\n",
    "1. Train the pipeline on the Wisconsion cancer training set and evaluate the performance of the model on the test set.\n",
    "1. Create a pandas series where the values is the coefficients of `LogisticRegression` and index is the `feature_names_in_`.\n",
    "    - **Hint**: The logistic regression estimator is the final step of the pipeline. \n",
    "    - **Hint**: The coefficients are stored as `coef_` in logistic regression estimator. (Use `ravel` to flatten the array)\n",
    "1. Which feature has a negative impact on cancer?"
   ]
  },
  {
   "cell_type": "code",
   "execution_count": null,
   "id": "72c88a30-5c9f-416f-a572-86fb5b4afbec",
   "metadata": {
    "tags": []
   },
   "outputs": [],
   "source": [
    "from sklearn.impute import KNNImputer\n",
    "import pandas as pd"
   ]
  },
  {
   "cell_type": "code",
   "execution_count": null,
   "id": "98ba74c9-b351-4158-b60e-d48604bbfe64",
   "metadata": {},
   "outputs": [],
   "source": []
  },
  {
   "cell_type": "markdown",
   "id": "e216aa3a-cfc4-48d5-a112-78e084d32b1b",
   "metadata": {},
   "source": [
    "**If you are running locally**, you can uncomment the following cell to load the solution into the cell. On **Google Colab**, [see solution here](https://github.com/thomasjpfan/ml-workshop-intermediate-v2/blob/main/notebooks/solutions/01-ex02-solutions.py). "
   ]
  },
  {
   "cell_type": "code",
   "execution_count": null,
   "id": "bd6fcc89-6793-4502-aae5-a959efebc6a3",
   "metadata": {
    "tags": []
   },
   "outputs": [],
   "source": [
    "# %load solutions/01-ex02-solutions.py"
   ]
  },
  {
   "cell_type": "markdown",
   "id": "5e5b51df-84b7-4db3-97c6-88ff72f01929",
   "metadata": {},
   "source": [
    "## Global configuration\n",
    "\n",
    "Output pandas by default!"
   ]
  },
  {
   "cell_type": "code",
   "execution_count": null,
   "id": "e524cd72-6ce1-466a-aa06-680272a8d896",
   "metadata": {
    "tags": []
   },
   "outputs": [],
   "source": [
    "import sklearn\n",
    "sklearn.set_config(transform_output=\"pandas\")"
   ]
  },
  {
   "cell_type": "code",
   "execution_count": null,
   "id": "fb13062a-aed9-4440-aaf8-b0cf40b3752c",
   "metadata": {
    "tags": []
   },
   "outputs": [],
   "source": [
    "cancer = fetch_openml(data_id=15, as_frame=True, parser=\"pandas\")\n",
    "X, y = cancer.data, cancer.target\n",
    "\n",
    "X_train, X_test, y_train, y_test = train_test_split(\n",
    "    X, y, stratify=y, random_state=0\n",
    ")"
   ]
  },
  {
   "cell_type": "code",
   "execution_count": null,
   "id": "f6524691-e6d7-4b79-b627-7075f8837bd8",
   "metadata": {
    "tags": []
   },
   "outputs": [],
   "source": [
    "scaler = SimpleImputer(add_indicator=True)"
   ]
  },
  {
   "cell_type": "code",
   "execution_count": null,
   "id": "67ae044b-bf46-4e68-bca9-ff545e153533",
   "metadata": {
    "tags": []
   },
   "outputs": [],
   "source": [
    "scaler.fit_transform(X_train)"
   ]
  }
 ],
 "metadata": {
  "kernelspec": {
   "display_name": "Python 3 (ipykernel)",
   "language": "python",
   "name": "python3"
  },
  "language_info": {
   "codemirror_mode": {
    "name": "ipython",
    "version": 3
   },
   "file_extension": ".py",
   "mimetype": "text/x-python",
   "name": "python",
   "nbconvert_exporter": "python",
   "pygments_lexer": "ipython3",
   "version": "3.10.10"
  }
 },
 "nbformat": 4,
 "nbformat_minor": 5
}
